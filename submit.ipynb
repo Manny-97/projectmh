{
 "cells": [
  {
   "cell_type": "code",
   "execution_count": 1,
   "metadata": {},
   "outputs": [
    {
     "name": "stderr",
     "output_type": "stream",
     "text": [
      "C:\\Users\\ACER ASPIRE E15\\Anaconda3\\lib\\site-packages\\statsmodels\\tools\\_testing.py:19: FutureWarning: pandas.util.testing is deprecated. Use the functions in the public API at pandas.testing instead.\n",
      "  import pandas.util.testing as tm\n"
     ]
    }
   ],
   "source": [
    "import pandas as pd\n",
    "import numpy as np\n",
    "import matplotlib.pyplot as plt\n",
    "import seaborn as sns\n",
    "from sklearn.ensemble import RandomForestClassifier\n",
    "from sklearn.ensemble import GradientBoostingClassifier\n",
    "from sklearn.model_selection import train_test_split\n",
    "from sklearn.feature_selection import RFECV"
   ]
  },
  {
   "cell_type": "markdown",
   "metadata": {},
   "source": [
    "Calling the Machine Learning Algorithm that I would like to use in building my model"
   ]
  },
  {
   "cell_type": "code",
   "execution_count": 2,
   "metadata": {},
   "outputs": [],
   "source": [
    "rfr = RandomForestClassifier(n_estimators=100)\n",
    "gbr = GradientBoostingClassifier()"
   ]
  },
  {
   "cell_type": "markdown",
   "metadata": {},
   "source": [
    "Now reading both the Train and Test data set using pandas"
   ]
  },
  {
   "cell_type": "code",
   "execution_count": 3,
   "metadata": {},
   "outputs": [],
   "source": [
    "train = pd.read_csv(r\"C:\\Users\\ACER ASPIRE E15\\Documents\\MY EXCEL\\My Projects\\DS Nigeria\\Train.csv\")\n",
    "holdout = pd.read_csv(r\"C:\\Users\\ACER ASPIRE E15\\Documents\\MY EXCEL\\My Projects\\DS Nigeria\\Test.csv\")"
   ]
  },
  {
   "cell_type": "markdown",
   "metadata": {},
   "source": [
    "Checking both the Training and Test data set shape i.e. number of rows and columns in each data set"
   ]
  },
  {
   "cell_type": "code",
   "execution_count": 4,
   "metadata": {},
   "outputs": [
    {
     "data": {
      "text/plain": [
       "(56000, 52)"
      ]
     },
     "execution_count": 4,
     "metadata": {},
     "output_type": "execute_result"
    }
   ],
   "source": [
    "train.shape"
   ]
  },
  {
   "cell_type": "code",
   "execution_count": 5,
   "metadata": {},
   "outputs": [
    {
     "data": {
      "text/plain": [
       "(24000, 51)"
      ]
     },
     "execution_count": 5,
     "metadata": {},
     "output_type": "execute_result"
    }
   ],
   "source": [
    "holdout.shape"
   ]
  },
  {
   "cell_type": "markdown",
   "metadata": {},
   "source": [
    "Dropping the 'Applicant_ID' column from the Training set"
   ]
  },
  {
   "cell_type": "code",
   "execution_count": 6,
   "metadata": {},
   "outputs": [],
   "source": [
    "train = train.drop('Applicant_ID', axis=1)"
   ]
  },
  {
   "cell_type": "code",
   "execution_count": 7,
   "metadata": {},
   "outputs": [],
   "source": [
    "def nan_values(df):\n",
    "    train_null_col = []\n",
    "    train_nonnull_col = []\n",
    "    cols = [train_null_col, train_nonnull_col]\n",
    "    for col in df.columns:\n",
    "        if df[col].count() != len(df):\n",
    "                train_null_col.append(col)\n",
    "        else:\n",
    "            train_nonnull_col.append(col)\n",
    "    return cols\n",
    "        \n",
    "        \n"
   ]
  },
  {
   "cell_type": "code",
   "execution_count": 8,
   "metadata": {},
   "outputs": [
    {
     "data": {
      "text/plain": [
       "24000"
      ]
     },
     "execution_count": 8,
     "metadata": {},
     "output_type": "execute_result"
    }
   ],
   "source": [
    "len(holdout)"
   ]
  },
  {
   "cell_type": "code",
   "execution_count": 9,
   "metadata": {},
   "outputs": [
    {
     "data": {
      "text/plain": [
       "2"
      ]
     },
     "execution_count": 9,
     "metadata": {},
     "output_type": "execute_result"
    }
   ],
   "source": [
    "len(nan_values(holdout))"
   ]
  },
  {
   "cell_type": "code",
   "execution_count": 10,
   "metadata": {},
   "outputs": [
    {
     "data": {
      "text/plain": [
       "Index(['Applicant_ID', 'form_field1', 'form_field2', 'form_field3',\n",
       "       'form_field4', 'form_field5', 'form_field6', 'form_field7',\n",
       "       'form_field8', 'form_field9', 'form_field10', 'form_field11',\n",
       "       'form_field12', 'form_field13', 'form_field14', 'form_field15',\n",
       "       'form_field16', 'form_field17', 'form_field18', 'form_field19',\n",
       "       'form_field20', 'form_field21', 'form_field22', 'form_field23',\n",
       "       'form_field24', 'form_field25', 'form_field26', 'form_field27',\n",
       "       'form_field28', 'form_field29', 'form_field30', 'form_field31',\n",
       "       'form_field32', 'form_field33', 'form_field34', 'form_field35',\n",
       "       'form_field36', 'form_field37', 'form_field38', 'form_field39',\n",
       "       'form_field40', 'form_field41', 'form_field42', 'form_field43',\n",
       "       'form_field44', 'form_field45', 'form_field46', 'form_field47',\n",
       "       'form_field48', 'form_field49', 'form_field50'],\n",
       "      dtype='object')"
      ]
     },
     "execution_count": 10,
     "metadata": {},
     "output_type": "execute_result"
    }
   ],
   "source": [
    "holdout.columns"
   ]
  },
  {
   "cell_type": "code",
   "execution_count": 11,
   "metadata": {},
   "outputs": [
    {
     "name": "stdout",
     "output_type": "stream",
     "text": [
      "Number of columns with null values in training dataset is: 48\n",
      "Number of columns without null values in training dataset is: 3\n"
     ]
    }
   ],
   "source": [
    "print('Number of columns with null values in training dataset is: {}'.format(len(nan_values(train)[0])))\n",
    "print('Number of columns without null values in training dataset is: {}'.format(len(nan_values(train)[1])))"
   ]
  },
  {
   "cell_type": "code",
   "execution_count": 12,
   "metadata": {},
   "outputs": [
    {
     "name": "stdout",
     "output_type": "stream",
     "text": [
      "Number of columns with null values in test dataset is: 47\n",
      "Number of columns without null values in test dataset is: 4\n"
     ]
    }
   ],
   "source": [
    "print('Number of columns with null values in test dataset is: {}'.format(len(nan_values(holdout)[0])))\n",
    "print('Number of columns without null values in test dataset is: {}'.format(len(nan_values(holdout)[1])))\n"
   ]
  },
  {
   "cell_type": "code",
   "execution_count": 13,
   "metadata": {},
   "outputs": [
    {
     "data": {
      "text/plain": [
       "count             24000\n",
       "unique            24000\n",
       "top       Apcnt_1166296\n",
       "freq                  1\n",
       "Name: Applicant_ID, dtype: object"
      ]
     },
     "execution_count": 13,
     "metadata": {},
     "output_type": "execute_result"
    }
   ],
   "source": [
    "holdout['Applicant_ID'].describe()"
   ]
  },
  {
   "cell_type": "code",
   "execution_count": 14,
   "metadata": {},
   "outputs": [
    {
     "data": {
      "image/png": "[encoded data removed]",
      "text/plain": [
       "<Figure size 1440x576 with 1 Axes>"
      ]
     },
     "metadata": {
      "needs_background": "light"
     },
     "output_type": "display_data"
    }
   ],
   "source": [
    "y = []\n",
    "x = []\n",
    "for col in train.columns:\n",
    "    y.append(train[col].count())\n",
    "    x.append(col)\n",
    "fig, ax = plt.subplots(figsize=(20, 8))    \n",
    "g = sns.barplot(x, y, ax=ax)\n",
    "#g.set_xticklabels(rotation=60)\n",
    "plt.xticks(rotation=45)\n",
    "plt.show()"
   ]
  },
  {
   "cell_type": "code",
   "execution_count": 15,
   "metadata": {},
   "outputs": [
    {
     "data": {
      "text/html": [
       "<div>\n",
       "<style scoped>\n",
       "    .dataframe tbody tr th:only-of-type {\n",
       "        vertical-align: middle;\n",
       "    }\n",
       "\n",
       "    .dataframe tbody tr th {\n",
       "        vertical-align: top;\n",
       "    }\n",
       "\n",
       "    .dataframe thead th {\n",
       "        text-align: right;\n",
       "    }\n",
       "</style>\n",
       "<table border=\"1\" class=\"dataframe\">\n",
       "  <thead>\n",
       "    <tr style=\"text-align: right;\">\n",
       "      <th></th>\n",
       "      <th>form_field1</th>\n",
       "      <th>form_field2</th>\n",
       "      <th>form_field3</th>\n",
       "      <th>form_field4</th>\n",
       "      <th>form_field5</th>\n",
       "      <th>form_field6</th>\n",
       "      <th>form_field7</th>\n",
       "      <th>form_field8</th>\n",
       "      <th>form_field9</th>\n",
       "      <th>form_field10</th>\n",
       "      <th>...</th>\n",
       "      <th>form_field42</th>\n",
       "      <th>form_field43</th>\n",
       "      <th>form_field44</th>\n",
       "      <th>form_field45</th>\n",
       "      <th>form_field46</th>\n",
       "      <th>form_field47</th>\n",
       "      <th>form_field48</th>\n",
       "      <th>form_field49</th>\n",
       "      <th>form_field50</th>\n",
       "      <th>default_status</th>\n",
       "    </tr>\n",
       "  </thead>\n",
       "  <tbody>\n",
       "    <tr>\n",
       "      <th>0</th>\n",
       "      <td>3436.0</td>\n",
       "      <td>0.28505</td>\n",
       "      <td>1.6560</td>\n",
       "      <td>0.0</td>\n",
       "      <td>0.000</td>\n",
       "      <td>0.0</td>\n",
       "      <td>10689720.0</td>\n",
       "      <td>252072.0</td>\n",
       "      <td>4272776.0</td>\n",
       "      <td>11333126.0</td>\n",
       "      <td>...</td>\n",
       "      <td>0.392854</td>\n",
       "      <td>2.02</td>\n",
       "      <td>0.711632</td>\n",
       "      <td>0.0</td>\n",
       "      <td>0.0</td>\n",
       "      <td>charge</td>\n",
       "      <td>NaN</td>\n",
       "      <td>1.129518</td>\n",
       "      <td>0.044335</td>\n",
       "      <td>no</td>\n",
       "    </tr>\n",
       "    <tr>\n",
       "      <th>1</th>\n",
       "      <td>3456.0</td>\n",
       "      <td>0.67400</td>\n",
       "      <td>0.2342</td>\n",
       "      <td>0.0</td>\n",
       "      <td>0.000</td>\n",
       "      <td>0.0</td>\n",
       "      <td>898979.0</td>\n",
       "      <td>497531.0</td>\n",
       "      <td>9073814.0</td>\n",
       "      <td>2533168.0</td>\n",
       "      <td>...</td>\n",
       "      <td>0.314281</td>\n",
       "      <td>8.08</td>\n",
       "      <td>0.183584</td>\n",
       "      <td>NaN</td>\n",
       "      <td>0.0</td>\n",
       "      <td>charge</td>\n",
       "      <td>349.805730</td>\n",
       "      <td>1.620483</td>\n",
       "      <td>0.322436</td>\n",
       "      <td>no</td>\n",
       "    </tr>\n",
       "    <tr>\n",
       "      <th>2</th>\n",
       "      <td>3276.0</td>\n",
       "      <td>0.53845</td>\n",
       "      <td>3.1510</td>\n",
       "      <td>0.0</td>\n",
       "      <td>6.282</td>\n",
       "      <td>NaN</td>\n",
       "      <td>956940.0</td>\n",
       "      <td>NaN</td>\n",
       "      <td>192944.0</td>\n",
       "      <td>1079864.0</td>\n",
       "      <td>...</td>\n",
       "      <td>0.162965</td>\n",
       "      <td>18.18</td>\n",
       "      <td>0.791136</td>\n",
       "      <td>0.0</td>\n",
       "      <td>0.0</td>\n",
       "      <td>charge</td>\n",
       "      <td>NaN</td>\n",
       "      <td>1.513370</td>\n",
       "      <td>0.011640</td>\n",
       "      <td>yes</td>\n",
       "    </tr>\n",
       "    <tr>\n",
       "      <th>3</th>\n",
       "      <td>3372.0</td>\n",
       "      <td>0.17005</td>\n",
       "      <td>0.5050</td>\n",
       "      <td>0.0</td>\n",
       "      <td>0.000</td>\n",
       "      <td>192166.0</td>\n",
       "      <td>3044703.0</td>\n",
       "      <td>385499.0</td>\n",
       "      <td>3986472.0</td>\n",
       "      <td>3621979.0</td>\n",
       "      <td>...</td>\n",
       "      <td>0.488884</td>\n",
       "      <td>2.02</td>\n",
       "      <td>0.685168</td>\n",
       "      <td>NaN</td>\n",
       "      <td>0.0</td>\n",
       "      <td>charge</td>\n",
       "      <td>89.940100</td>\n",
       "      <td>0.664452</td>\n",
       "      <td>0.082729</td>\n",
       "      <td>no</td>\n",
       "    </tr>\n",
       "    <tr>\n",
       "      <th>4</th>\n",
       "      <td>3370.0</td>\n",
       "      <td>0.77270</td>\n",
       "      <td>1.1010</td>\n",
       "      <td>0.0</td>\n",
       "      <td>0.000</td>\n",
       "      <td>1556.0</td>\n",
       "      <td>214728.0</td>\n",
       "      <td>214728.0</td>\n",
       "      <td>1284089.0</td>\n",
       "      <td>361770.0</td>\n",
       "      <td>...</td>\n",
       "      <td>0.275000</td>\n",
       "      <td>12.12</td>\n",
       "      <td>0.438168</td>\n",
       "      <td>0.0</td>\n",
       "      <td>0.0</td>\n",
       "      <td>charge</td>\n",
       "      <td>97.887502</td>\n",
       "      <td>1.427891</td>\n",
       "      <td>0.045630</td>\n",
       "      <td>no</td>\n",
       "    </tr>\n",
       "  </tbody>\n",
       "</table>\n",
       "<p>5 rows × 51 columns</p>\n",
       "</div>"
      ],
      "text/plain": [
       "   form_field1  form_field2  form_field3  form_field4  form_field5  \\\n",
       "0       3436.0      0.28505       1.6560          0.0        0.000   \n",
       "1       3456.0      0.67400       0.2342          0.0        0.000   \n",
       "2       3276.0      0.53845       3.1510          0.0        6.282   \n",
       "3       3372.0      0.17005       0.5050          0.0        0.000   \n",
       "4       3370.0      0.77270       1.1010          0.0        0.000   \n",
       "\n",
       "   form_field6  form_field7  form_field8  form_field9  form_field10  ...  \\\n",
       "0          0.0   10689720.0     252072.0    4272776.0    11333126.0  ...   \n",
       "1          0.0     898979.0     497531.0    9073814.0     2533168.0  ...   \n",
       "2          NaN     956940.0          NaN     192944.0     1079864.0  ...   \n",
       "3     192166.0    3044703.0     385499.0    3986472.0     3621979.0  ...   \n",
       "4       1556.0     214728.0     214728.0    1284089.0      361770.0  ...   \n",
       "\n",
       "   form_field42  form_field43  form_field44  form_field45  form_field46  \\\n",
       "0      0.392854          2.02      0.711632           0.0           0.0   \n",
       "1      0.314281          8.08      0.183584           NaN           0.0   \n",
       "2      0.162965         18.18      0.791136           0.0           0.0   \n",
       "3      0.488884          2.02      0.685168           NaN           0.0   \n",
       "4      0.275000         12.12      0.438168           0.0           0.0   \n",
       "\n",
       "   form_field47  form_field48  form_field49  form_field50  default_status  \n",
       "0        charge           NaN      1.129518      0.044335              no  \n",
       "1        charge    349.805730      1.620483      0.322436              no  \n",
       "2        charge           NaN      1.513370      0.011640             yes  \n",
       "3        charge     89.940100      0.664452      0.082729              no  \n",
       "4        charge     97.887502      1.427891      0.045630              no  \n",
       "\n",
       "[5 rows x 51 columns]"
      ]
     },
     "execution_count": 15,
     "metadata": {},
     "output_type": "execute_result"
    }
   ],
   "source": [
    "train.head()"
   ]
  },
  {
   "cell_type": "code",
   "execution_count": 16,
   "metadata": {},
   "outputs": [
    {
     "data": {
      "text/plain": [
       "51"
      ]
     },
     "execution_count": 16,
     "metadata": {},
     "output_type": "execute_result"
    }
   ],
   "source": [
    "columns = []\n",
    "for col in train.columns:\n",
    "    columns.append(col)\n",
    "    \n",
    "len(columns)"
   ]
  },
  {
   "cell_type": "code",
   "execution_count": 17,
   "metadata": {},
   "outputs": [],
   "source": [
    "float_col = []\n",
    "int_col = []\n",
    "object_col = []\n",
    "for col in columns:\n",
    "    if train.dtypes[col] == 'float64':\n",
    "        float_col.append(col)\n",
    "    elif train.dtypes[col] == 'int64':\n",
    "        int_col.append(col)\n",
    "    elif train.dtypes[col] =='object':\n",
    "        object_col.append(col)"
   ]
  },
  {
   "cell_type": "code",
   "execution_count": 18,
   "metadata": {},
   "outputs": [
    {
     "name": "stdout",
     "output_type": "stream",
     "text": [
      "['form_field47', 'default_status']\n"
     ]
    }
   ],
   "source": [
    "print(object_col)"
   ]
  },
  {
   "cell_type": "code",
   "execution_count": 19,
   "metadata": {},
   "outputs": [
    {
     "name": "stdout",
     "output_type": "stream",
     "text": [
      "['form_field14']\n"
     ]
    }
   ],
   "source": [
    "print(int_col)"
   ]
  },
  {
   "cell_type": "code",
   "execution_count": 20,
   "metadata": {},
   "outputs": [
    {
     "name": "stdout",
     "output_type": "stream",
     "text": [
      "48\n"
     ]
    }
   ],
   "source": [
    "print(len(float_col))"
   ]
  },
  {
   "cell_type": "code",
   "execution_count": 21,
   "metadata": {},
   "outputs": [],
   "source": [
    "train = train.dropna(thresh=36)"
   ]
  },
  {
   "cell_type": "code",
   "execution_count": 22,
   "metadata": {},
   "outputs": [
    {
     "data": {
      "text/plain": [
       "(45546, 51)"
      ]
     },
     "execution_count": 22,
     "metadata": {},
     "output_type": "execute_result"
    }
   ],
   "source": [
    "train.shape"
   ]
  },
  {
   "cell_type": "code",
   "execution_count": 23,
   "metadata": {},
   "outputs": [],
   "source": [
    "train = train.fillna(0)"
   ]
  },
  {
   "cell_type": "code",
   "execution_count": 24,
   "metadata": {},
   "outputs": [],
   "source": [
    "train['default_status'] = train['default_status'].map({'yes': 1, 'no': 0})"
   ]
  },
  {
   "cell_type": "code",
   "execution_count": 25,
   "metadata": {},
   "outputs": [],
   "source": [
    "# Creating a function that creates dummy column for each unique value in a column\n",
    "def create_dummies(df, column_name):\n",
    "    \"\"\"\"This function creates dummy columns in a data, and replace the initial column with the dummy columns\"\"\"\n",
    "    dummy = pd.get_dummies(df[column_name], prefix = column_name)\n",
    "    df = pd.concat([df, dummy], axis = 1)\n",
    "    df = df.drop(column_name, axis=1)\n",
    "    return df"
   ]
  },
  {
   "cell_type": "code",
   "execution_count": 26,
   "metadata": {},
   "outputs": [],
   "source": [
    "train = create_dummies(train, object_col[0])\n",
    "holdout = create_dummies(holdout, object_col[0])"
   ]
  },
  {
   "cell_type": "code",
   "execution_count": 27,
   "metadata": {},
   "outputs": [
    {
     "data": {
      "text/plain": [
       "count    45546.000000\n",
       "mean         0.203465\n",
       "std          0.402580\n",
       "min          0.000000\n",
       "25%          0.000000\n",
       "50%          0.000000\n",
       "75%          0.000000\n",
       "max          1.000000\n",
       "Name: default_status, dtype: float64"
      ]
     },
     "execution_count": 27,
     "metadata": {},
     "output_type": "execute_result"
    }
   ],
   "source": [
    "train[object_col[1]].describe()"
   ]
  },
  {
   "cell_type": "code",
   "execution_count": 28,
   "metadata": {},
   "outputs": [
    {
     "data": {
      "text/plain": [
       "array([0, 1], dtype=int64)"
      ]
     },
     "execution_count": 28,
     "metadata": {},
     "output_type": "execute_result"
    }
   ],
   "source": [
    "train[object_col[1]].unique()"
   ]
  },
  {
   "cell_type": "code",
   "execution_count": 29,
   "metadata": {
    "scrolled": true
   },
   "outputs": [
    {
     "data": {
      "text/html": [
       "<div>\n",
       "<style scoped>\n",
       "    .dataframe tbody tr th:only-of-type {\n",
       "        vertical-align: middle;\n",
       "    }\n",
       "\n",
       "    .dataframe tbody tr th {\n",
       "        vertical-align: top;\n",
       "    }\n",
       "\n",
       "    .dataframe thead th {\n",
       "        text-align: right;\n",
       "    }\n",
       "</style>\n",
       "<table border=\"1\" class=\"dataframe\">\n",
       "  <thead>\n",
       "    <tr style=\"text-align: right;\">\n",
       "      <th></th>\n",
       "      <th>form_field14</th>\n",
       "    </tr>\n",
       "  </thead>\n",
       "  <tbody>\n",
       "    <tr>\n",
       "      <th>count</th>\n",
       "      <td>4.554600e+04</td>\n",
       "    </tr>\n",
       "    <tr>\n",
       "      <th>mean</th>\n",
       "      <td>5.316511e+07</td>\n",
       "    </tr>\n",
       "    <tr>\n",
       "      <th>std</th>\n",
       "      <td>1.052743e+09</td>\n",
       "    </tr>\n",
       "    <tr>\n",
       "      <th>min</th>\n",
       "      <td>0.000000e+00</td>\n",
       "    </tr>\n",
       "    <tr>\n",
       "      <th>25%</th>\n",
       "      <td>1.927495e+07</td>\n",
       "    </tr>\n",
       "    <tr>\n",
       "      <th>50%</th>\n",
       "      <td>2.891242e+07</td>\n",
       "    </tr>\n",
       "    <tr>\n",
       "      <th>75%</th>\n",
       "      <td>4.818738e+07</td>\n",
       "    </tr>\n",
       "    <tr>\n",
       "      <th>max</th>\n",
       "      <td>1.542150e+11</td>\n",
       "    </tr>\n",
       "  </tbody>\n",
       "</table>\n",
       "</div>"
      ],
      "text/plain": [
       "       form_field14\n",
       "count  4.554600e+04\n",
       "mean   5.316511e+07\n",
       "std    1.052743e+09\n",
       "min    0.000000e+00\n",
       "25%    1.927495e+07\n",
       "50%    2.891242e+07\n",
       "75%    4.818738e+07\n",
       "max    1.542150e+11"
      ]
     },
     "execution_count": 29,
     "metadata": {},
     "output_type": "execute_result"
    }
   ],
   "source": [
    "train[int_col].describe()"
   ]
  },
  {
   "cell_type": "code",
   "execution_count": 30,
   "metadata": {},
   "outputs": [
    {
     "data": {
      "text/plain": [
       "51"
      ]
     },
     "execution_count": 30,
     "metadata": {},
     "output_type": "execute_result"
    }
   ],
   "source": [
    "float_col_non_nan = []\n",
    "for col in train.columns:\n",
    "    float_col_non_nan.append(col)\n",
    "        \n",
    "float_col_non_nan.remove('default_status')\n",
    "#float_col_non_nan.remove('form_field47')\n",
    "len(float_col_non_nan)"
   ]
  },
  {
   "cell_type": "code",
   "execution_count": 31,
   "metadata": {},
   "outputs": [
    {
     "data": {
      "text/plain": [
       "['form_field47_charge', 'form_field47_lending']"
      ]
     },
     "execution_count": 31,
     "metadata": {},
     "output_type": "execute_result"
    }
   ],
   "source": [
    "float_col_non_nan1 = []\n",
    "for col in train.columns[-2:]:\n",
    "    float_col_non_nan1.append(col)\n",
    "        \n",
    "float_col_non_nan1"
   ]
  },
  {
   "cell_type": "code",
   "execution_count": null,
   "metadata": {},
   "outputs": [],
   "source": []
  },
  {
   "cell_type": "code",
   "execution_count": 32,
   "metadata": {},
   "outputs": [
    {
     "data": {
      "text/html": [
       "<div>\n",
       "<style scoped>\n",
       "    .dataframe tbody tr th:only-of-type {\n",
       "        vertical-align: middle;\n",
       "    }\n",
       "\n",
       "    .dataframe tbody tr th {\n",
       "        vertical-align: top;\n",
       "    }\n",
       "\n",
       "    .dataframe thead th {\n",
       "        text-align: right;\n",
       "    }\n",
       "</style>\n",
       "<table border=\"1\" class=\"dataframe\">\n",
       "  <thead>\n",
       "    <tr style=\"text-align: right;\">\n",
       "      <th></th>\n",
       "      <th>form_field1</th>\n",
       "      <th>form_field2</th>\n",
       "      <th>form_field3</th>\n",
       "      <th>form_field4</th>\n",
       "      <th>form_field5</th>\n",
       "      <th>form_field6</th>\n",
       "      <th>form_field7</th>\n",
       "      <th>form_field8</th>\n",
       "      <th>form_field9</th>\n",
       "      <th>form_field10</th>\n",
       "      <th>...</th>\n",
       "      <th>form_field42</th>\n",
       "      <th>form_field43</th>\n",
       "      <th>form_field44</th>\n",
       "      <th>form_field45</th>\n",
       "      <th>form_field46</th>\n",
       "      <th>form_field48</th>\n",
       "      <th>form_field49</th>\n",
       "      <th>form_field50</th>\n",
       "      <th>form_field47_charge</th>\n",
       "      <th>form_field47_lending</th>\n",
       "    </tr>\n",
       "  </thead>\n",
       "  <tbody>\n",
       "    <tr>\n",
       "      <th>count</th>\n",
       "      <td>45546.000000</td>\n",
       "      <td>45546.000000</td>\n",
       "      <td>45546.000000</td>\n",
       "      <td>45546.000000</td>\n",
       "      <td>45546.000000</td>\n",
       "      <td>4.554600e+04</td>\n",
       "      <td>4.554600e+04</td>\n",
       "      <td>4.554600e+04</td>\n",
       "      <td>4.554600e+04</td>\n",
       "      <td>4.554600e+04</td>\n",
       "      <td>...</td>\n",
       "      <td>45546.000000</td>\n",
       "      <td>45546.000000</td>\n",
       "      <td>45546.000000</td>\n",
       "      <td>45546.000000</td>\n",
       "      <td>45546.000000</td>\n",
       "      <td>4.554600e+04</td>\n",
       "      <td>45546.000000</td>\n",
       "      <td>4.554600e+04</td>\n",
       "      <td>45546.000000</td>\n",
       "      <td>45546.000000</td>\n",
       "    </tr>\n",
       "    <tr>\n",
       "      <th>mean</th>\n",
       "      <td>3514.822948</td>\n",
       "      <td>0.514103</td>\n",
       "      <td>0.823709</td>\n",
       "      <td>0.649162</td>\n",
       "      <td>1.216199</td>\n",
       "      <td>5.757969e+05</td>\n",
       "      <td>7.381626e+06</td>\n",
       "      <td>2.446655e+06</td>\n",
       "      <td>1.369959e+07</td>\n",
       "      <td>1.413780e+07</td>\n",
       "      <td>...</td>\n",
       "      <td>0.251534</td>\n",
       "      <td>7.794381</td>\n",
       "      <td>0.545818</td>\n",
       "      <td>0.031529</td>\n",
       "      <td>0.050872</td>\n",
       "      <td>2.352712e+05</td>\n",
       "      <td>1.108354</td>\n",
       "      <td>5.848568e+05</td>\n",
       "      <td>0.626619</td>\n",
       "      <td>0.373381</td>\n",
       "    </tr>\n",
       "    <tr>\n",
       "      <th>std</th>\n",
       "      <td>276.011393</td>\n",
       "      <td>0.808966</td>\n",
       "      <td>1.846511</td>\n",
       "      <td>2.709405</td>\n",
       "      <td>7.661039</td>\n",
       "      <td>1.379553e+06</td>\n",
       "      <td>2.000636e+07</td>\n",
       "      <td>3.848382e+06</td>\n",
       "      <td>2.004456e+07</td>\n",
       "      <td>2.884978e+07</td>\n",
       "      <td>...</td>\n",
       "      <td>0.305011</td>\n",
       "      <td>6.350193</td>\n",
       "      <td>0.202091</td>\n",
       "      <td>0.195387</td>\n",
       "      <td>0.249673</td>\n",
       "      <td>1.452408e+06</td>\n",
       "      <td>1.788795</td>\n",
       "      <td>5.700871e+06</td>\n",
       "      <td>0.483707</td>\n",
       "      <td>0.483707</td>\n",
       "    </tr>\n",
       "    <tr>\n",
       "      <th>min</th>\n",
       "      <td>0.000000</td>\n",
       "      <td>0.000000</td>\n",
       "      <td>0.000000</td>\n",
       "      <td>0.000000</td>\n",
       "      <td>0.000000</td>\n",
       "      <td>0.000000e+00</td>\n",
       "      <td>0.000000e+00</td>\n",
       "      <td>0.000000e+00</td>\n",
       "      <td>0.000000e+00</td>\n",
       "      <td>0.000000e+00</td>\n",
       "      <td>...</td>\n",
       "      <td>0.000000</td>\n",
       "      <td>0.000000</td>\n",
       "      <td>0.000000</td>\n",
       "      <td>0.000000</td>\n",
       "      <td>0.000000</td>\n",
       "      <td>0.000000e+00</td>\n",
       "      <td>0.000000</td>\n",
       "      <td>0.000000e+00</td>\n",
       "      <td>0.000000</td>\n",
       "      <td>0.000000</td>\n",
       "    </tr>\n",
       "    <tr>\n",
       "      <th>25%</th>\n",
       "      <td>3408.000000</td>\n",
       "      <td>0.048800</td>\n",
       "      <td>0.000000</td>\n",
       "      <td>0.000000</td>\n",
       "      <td>0.000000</td>\n",
       "      <td>3.501000e+03</td>\n",
       "      <td>8.865310e+05</td>\n",
       "      <td>1.155330e+05</td>\n",
       "      <td>1.568642e+06</td>\n",
       "      <td>1.388827e+06</td>\n",
       "      <td>...</td>\n",
       "      <td>0.000000</td>\n",
       "      <td>3.030000</td>\n",
       "      <td>0.399224</td>\n",
       "      <td>0.000000</td>\n",
       "      <td>0.000000</td>\n",
       "      <td>0.000000e+00</td>\n",
       "      <td>0.000000</td>\n",
       "      <td>3.597288e-02</td>\n",
       "      <td>0.000000</td>\n",
       "      <td>0.000000</td>\n",
       "    </tr>\n",
       "    <tr>\n",
       "      <th>50%</th>\n",
       "      <td>3512.000000</td>\n",
       "      <td>0.227175</td>\n",
       "      <td>0.000000</td>\n",
       "      <td>0.000000</td>\n",
       "      <td>0.000000</td>\n",
       "      <td>1.011400e+05</td>\n",
       "      <td>3.083992e+06</td>\n",
       "      <td>7.709980e+05</td>\n",
       "      <td>6.013940e+06</td>\n",
       "      <td>5.676872e+06</td>\n",
       "      <td>...</td>\n",
       "      <td>0.122221</td>\n",
       "      <td>6.060000</td>\n",
       "      <td>0.568416</td>\n",
       "      <td>0.000000</td>\n",
       "      <td>0.000000</td>\n",
       "      <td>1.490635e+02</td>\n",
       "      <td>0.274760</td>\n",
       "      <td>1.583418e-01</td>\n",
       "      <td>1.000000</td>\n",
       "      <td>0.000000</td>\n",
       "    </tr>\n",
       "    <tr>\n",
       "      <th>75%</th>\n",
       "      <td>3646.000000</td>\n",
       "      <td>0.676063</td>\n",
       "      <td>0.781400</td>\n",
       "      <td>0.000000</td>\n",
       "      <td>0.000000</td>\n",
       "      <td>4.247880e+05</td>\n",
       "      <td>7.547378e+06</td>\n",
       "      <td>3.359112e+06</td>\n",
       "      <td>1.788836e+07</td>\n",
       "      <td>1.653765e+07</td>\n",
       "      <td>...</td>\n",
       "      <td>0.425810</td>\n",
       "      <td>11.110000</td>\n",
       "      <td>0.732060</td>\n",
       "      <td>0.000000</td>\n",
       "      <td>0.000000</td>\n",
       "      <td>7.407079e+02</td>\n",
       "      <td>1.488927</td>\n",
       "      <td>4.817528e-01</td>\n",
       "      <td>1.000000</td>\n",
       "      <td>1.000000</td>\n",
       "    </tr>\n",
       "    <tr>\n",
       "      <th>max</th>\n",
       "      <td>3900.000000</td>\n",
       "      <td>18.015050</td>\n",
       "      <td>34.687800</td>\n",
       "      <td>91.672200</td>\n",
       "      <td>312.190200</td>\n",
       "      <td>5.313546e+07</td>\n",
       "      <td>2.158794e+09</td>\n",
       "      <td>1.037397e+08</td>\n",
       "      <td>3.200533e+08</td>\n",
       "      <td>2.191361e+09</td>\n",
       "      <td>...</td>\n",
       "      <td>2.200000</td>\n",
       "      <td>78.780000</td>\n",
       "      <td>0.800000</td>\n",
       "      <td>5.000000</td>\n",
       "      <td>5.000000</td>\n",
       "      <td>5.321014e+07</td>\n",
       "      <td>28.000000</td>\n",
       "      <td>1.988498e+08</td>\n",
       "      <td>1.000000</td>\n",
       "      <td>1.000000</td>\n",
       "    </tr>\n",
       "  </tbody>\n",
       "</table>\n",
       "<p>8 rows × 51 columns</p>\n",
       "</div>"
      ],
      "text/plain": [
       "        form_field1   form_field2   form_field3   form_field4   form_field5  \\\n",
       "count  45546.000000  45546.000000  45546.000000  45546.000000  45546.000000   \n",
       "mean    3514.822948      0.514103      0.823709      0.649162      1.216199   \n",
       "std      276.011393      0.808966      1.846511      2.709405      7.661039   \n",
       "min        0.000000      0.000000      0.000000      0.000000      0.000000   \n",
       "25%     3408.000000      0.048800      0.000000      0.000000      0.000000   \n",
       "50%     3512.000000      0.227175      0.000000      0.000000      0.000000   \n",
       "75%     3646.000000      0.676063      0.781400      0.000000      0.000000   \n",
       "max     3900.000000     18.015050     34.687800     91.672200    312.190200   \n",
       "\n",
       "        form_field6   form_field7   form_field8   form_field9  form_field10  \\\n",
       "count  4.554600e+04  4.554600e+04  4.554600e+04  4.554600e+04  4.554600e+04   \n",
       "mean   5.757969e+05  7.381626e+06  2.446655e+06  1.369959e+07  1.413780e+07   \n",
       "std    1.379553e+06  2.000636e+07  3.848382e+06  2.004456e+07  2.884978e+07   \n",
       "min    0.000000e+00  0.000000e+00  0.000000e+00  0.000000e+00  0.000000e+00   \n",
       "25%    3.501000e+03  8.865310e+05  1.155330e+05  1.568642e+06  1.388827e+06   \n",
       "50%    1.011400e+05  3.083992e+06  7.709980e+05  6.013940e+06  5.676872e+06   \n",
       "75%    4.247880e+05  7.547378e+06  3.359112e+06  1.788836e+07  1.653765e+07   \n",
       "max    5.313546e+07  2.158794e+09  1.037397e+08  3.200533e+08  2.191361e+09   \n",
       "\n",
       "       ...  form_field42  form_field43  form_field44  form_field45  \\\n",
       "count  ...  45546.000000  45546.000000  45546.000000  45546.000000   \n",
       "mean   ...      0.251534      7.794381      0.545818      0.031529   \n",
       "std    ...      0.305011      6.350193      0.202091      0.195387   \n",
       "min    ...      0.000000      0.000000      0.000000      0.000000   \n",
       "25%    ...      0.000000      3.030000      0.399224      0.000000   \n",
       "50%    ...      0.122221      6.060000      0.568416      0.000000   \n",
       "75%    ...      0.425810     11.110000      0.732060      0.000000   \n",
       "max    ...      2.200000     78.780000      0.800000      5.000000   \n",
       "\n",
       "       form_field46  form_field48  form_field49  form_field50  \\\n",
       "count  45546.000000  4.554600e+04  45546.000000  4.554600e+04   \n",
       "mean       0.050872  2.352712e+05      1.108354  5.848568e+05   \n",
       "std        0.249673  1.452408e+06      1.788795  5.700871e+06   \n",
       "min        0.000000  0.000000e+00      0.000000  0.000000e+00   \n",
       "25%        0.000000  0.000000e+00      0.000000  3.597288e-02   \n",
       "50%        0.000000  1.490635e+02      0.274760  1.583418e-01   \n",
       "75%        0.000000  7.407079e+02      1.488927  4.817528e-01   \n",
       "max        5.000000  5.321014e+07     28.000000  1.988498e+08   \n",
       "\n",
       "       form_field47_charge  form_field47_lending  \n",
       "count         45546.000000          45546.000000  \n",
       "mean              0.626619              0.373381  \n",
       "std               0.483707              0.483707  \n",
       "min               0.000000              0.000000  \n",
       "25%               0.000000              0.000000  \n",
       "50%               1.000000              0.000000  \n",
       "75%               1.000000              1.000000  \n",
       "max               1.000000              1.000000  \n",
       "\n",
       "[8 rows x 51 columns]"
      ]
     },
     "execution_count": 32,
     "metadata": {},
     "output_type": "execute_result"
    }
   ],
   "source": [
    "train[float_col_non_nan].describe()"
   ]
  },
  {
   "cell_type": "code",
   "execution_count": 33,
   "metadata": {},
   "outputs": [],
   "source": [
    "train[float_col_non_nan] = train[float_col_non_nan].fillna(0)"
   ]
  },
  {
   "cell_type": "code",
   "execution_count": 34,
   "metadata": {},
   "outputs": [
    {
     "data": {
      "text/html": [
       "<div>\n",
       "<style scoped>\n",
       "    .dataframe tbody tr th:only-of-type {\n",
       "        vertical-align: middle;\n",
       "    }\n",
       "\n",
       "    .dataframe tbody tr th {\n",
       "        vertical-align: top;\n",
       "    }\n",
       "\n",
       "    .dataframe thead th {\n",
       "        text-align: right;\n",
       "    }\n",
       "</style>\n",
       "<table border=\"1\" class=\"dataframe\">\n",
       "  <thead>\n",
       "    <tr style=\"text-align: right;\">\n",
       "      <th></th>\n",
       "      <th>form_field1</th>\n",
       "      <th>form_field2</th>\n",
       "      <th>form_field3</th>\n",
       "      <th>form_field4</th>\n",
       "      <th>form_field5</th>\n",
       "      <th>form_field6</th>\n",
       "      <th>form_field7</th>\n",
       "      <th>form_field8</th>\n",
       "      <th>form_field9</th>\n",
       "      <th>form_field10</th>\n",
       "      <th>...</th>\n",
       "      <th>form_field42</th>\n",
       "      <th>form_field43</th>\n",
       "      <th>form_field44</th>\n",
       "      <th>form_field45</th>\n",
       "      <th>form_field46</th>\n",
       "      <th>form_field48</th>\n",
       "      <th>form_field49</th>\n",
       "      <th>form_field50</th>\n",
       "      <th>form_field47_charge</th>\n",
       "      <th>form_field47_lending</th>\n",
       "    </tr>\n",
       "  </thead>\n",
       "  <tbody>\n",
       "    <tr>\n",
       "      <th>count</th>\n",
       "      <td>45546.000000</td>\n",
       "      <td>45546.000000</td>\n",
       "      <td>45546.000000</td>\n",
       "      <td>45546.000000</td>\n",
       "      <td>45546.000000</td>\n",
       "      <td>4.554600e+04</td>\n",
       "      <td>4.554600e+04</td>\n",
       "      <td>4.554600e+04</td>\n",
       "      <td>4.554600e+04</td>\n",
       "      <td>4.554600e+04</td>\n",
       "      <td>...</td>\n",
       "      <td>45546.000000</td>\n",
       "      <td>45546.000000</td>\n",
       "      <td>45546.000000</td>\n",
       "      <td>45546.000000</td>\n",
       "      <td>45546.000000</td>\n",
       "      <td>4.554600e+04</td>\n",
       "      <td>45546.000000</td>\n",
       "      <td>4.554600e+04</td>\n",
       "      <td>45546.000000</td>\n",
       "      <td>45546.000000</td>\n",
       "    </tr>\n",
       "    <tr>\n",
       "      <th>mean</th>\n",
       "      <td>3514.822948</td>\n",
       "      <td>0.514103</td>\n",
       "      <td>0.823709</td>\n",
       "      <td>0.649162</td>\n",
       "      <td>1.216199</td>\n",
       "      <td>5.757969e+05</td>\n",
       "      <td>7.381626e+06</td>\n",
       "      <td>2.446655e+06</td>\n",
       "      <td>1.369959e+07</td>\n",
       "      <td>1.413780e+07</td>\n",
       "      <td>...</td>\n",
       "      <td>0.251534</td>\n",
       "      <td>7.794381</td>\n",
       "      <td>0.545818</td>\n",
       "      <td>0.031529</td>\n",
       "      <td>0.050872</td>\n",
       "      <td>2.352712e+05</td>\n",
       "      <td>1.108354</td>\n",
       "      <td>5.848568e+05</td>\n",
       "      <td>0.626619</td>\n",
       "      <td>0.373381</td>\n",
       "    </tr>\n",
       "    <tr>\n",
       "      <th>std</th>\n",
       "      <td>276.011393</td>\n",
       "      <td>0.808966</td>\n",
       "      <td>1.846511</td>\n",
       "      <td>2.709405</td>\n",
       "      <td>7.661039</td>\n",
       "      <td>1.379553e+06</td>\n",
       "      <td>2.000636e+07</td>\n",
       "      <td>3.848382e+06</td>\n",
       "      <td>2.004456e+07</td>\n",
       "      <td>2.884978e+07</td>\n",
       "      <td>...</td>\n",
       "      <td>0.305011</td>\n",
       "      <td>6.350193</td>\n",
       "      <td>0.202091</td>\n",
       "      <td>0.195387</td>\n",
       "      <td>0.249673</td>\n",
       "      <td>1.452408e+06</td>\n",
       "      <td>1.788795</td>\n",
       "      <td>5.700871e+06</td>\n",
       "      <td>0.483707</td>\n",
       "      <td>0.483707</td>\n",
       "    </tr>\n",
       "    <tr>\n",
       "      <th>min</th>\n",
       "      <td>0.000000</td>\n",
       "      <td>0.000000</td>\n",
       "      <td>0.000000</td>\n",
       "      <td>0.000000</td>\n",
       "      <td>0.000000</td>\n",
       "      <td>0.000000e+00</td>\n",
       "      <td>0.000000e+00</td>\n",
       "      <td>0.000000e+00</td>\n",
       "      <td>0.000000e+00</td>\n",
       "      <td>0.000000e+00</td>\n",
       "      <td>...</td>\n",
       "      <td>0.000000</td>\n",
       "      <td>0.000000</td>\n",
       "      <td>0.000000</td>\n",
       "      <td>0.000000</td>\n",
       "      <td>0.000000</td>\n",
       "      <td>0.000000e+00</td>\n",
       "      <td>0.000000</td>\n",
       "      <td>0.000000e+00</td>\n",
       "      <td>0.000000</td>\n",
       "      <td>0.000000</td>\n",
       "    </tr>\n",
       "    <tr>\n",
       "      <th>25%</th>\n",
       "      <td>3408.000000</td>\n",
       "      <td>0.048800</td>\n",
       "      <td>0.000000</td>\n",
       "      <td>0.000000</td>\n",
       "      <td>0.000000</td>\n",
       "      <td>3.501000e+03</td>\n",
       "      <td>8.865310e+05</td>\n",
       "      <td>1.155330e+05</td>\n",
       "      <td>1.568642e+06</td>\n",
       "      <td>1.388827e+06</td>\n",
       "      <td>...</td>\n",
       "      <td>0.000000</td>\n",
       "      <td>3.030000</td>\n",
       "      <td>0.399224</td>\n",
       "      <td>0.000000</td>\n",
       "      <td>0.000000</td>\n",
       "      <td>0.000000e+00</td>\n",
       "      <td>0.000000</td>\n",
       "      <td>3.597288e-02</td>\n",
       "      <td>0.000000</td>\n",
       "      <td>0.000000</td>\n",
       "    </tr>\n",
       "    <tr>\n",
       "      <th>50%</th>\n",
       "      <td>3512.000000</td>\n",
       "      <td>0.227175</td>\n",
       "      <td>0.000000</td>\n",
       "      <td>0.000000</td>\n",
       "      <td>0.000000</td>\n",
       "      <td>1.011400e+05</td>\n",
       "      <td>3.083992e+06</td>\n",
       "      <td>7.709980e+05</td>\n",
       "      <td>6.013940e+06</td>\n",
       "      <td>5.676872e+06</td>\n",
       "      <td>...</td>\n",
       "      <td>0.122221</td>\n",
       "      <td>6.060000</td>\n",
       "      <td>0.568416</td>\n",
       "      <td>0.000000</td>\n",
       "      <td>0.000000</td>\n",
       "      <td>1.490635e+02</td>\n",
       "      <td>0.274760</td>\n",
       "      <td>1.583418e-01</td>\n",
       "      <td>1.000000</td>\n",
       "      <td>0.000000</td>\n",
       "    </tr>\n",
       "    <tr>\n",
       "      <th>75%</th>\n",
       "      <td>3646.000000</td>\n",
       "      <td>0.676063</td>\n",
       "      <td>0.781400</td>\n",
       "      <td>0.000000</td>\n",
       "      <td>0.000000</td>\n",
       "      <td>4.247880e+05</td>\n",
       "      <td>7.547378e+06</td>\n",
       "      <td>3.359112e+06</td>\n",
       "      <td>1.788836e+07</td>\n",
       "      <td>1.653765e+07</td>\n",
       "      <td>...</td>\n",
       "      <td>0.425810</td>\n",
       "      <td>11.110000</td>\n",
       "      <td>0.732060</td>\n",
       "      <td>0.000000</td>\n",
       "      <td>0.000000</td>\n",
       "      <td>7.407079e+02</td>\n",
       "      <td>1.488927</td>\n",
       "      <td>4.817528e-01</td>\n",
       "      <td>1.000000</td>\n",
       "      <td>1.000000</td>\n",
       "    </tr>\n",
       "    <tr>\n",
       "      <th>max</th>\n",
       "      <td>3900.000000</td>\n",
       "      <td>18.015050</td>\n",
       "      <td>34.687800</td>\n",
       "      <td>91.672200</td>\n",
       "      <td>312.190200</td>\n",
       "      <td>5.313546e+07</td>\n",
       "      <td>2.158794e+09</td>\n",
       "      <td>1.037397e+08</td>\n",
       "      <td>3.200533e+08</td>\n",
       "      <td>2.191361e+09</td>\n",
       "      <td>...</td>\n",
       "      <td>2.200000</td>\n",
       "      <td>78.780000</td>\n",
       "      <td>0.800000</td>\n",
       "      <td>5.000000</td>\n",
       "      <td>5.000000</td>\n",
       "      <td>5.321014e+07</td>\n",
       "      <td>28.000000</td>\n",
       "      <td>1.988498e+08</td>\n",
       "      <td>1.000000</td>\n",
       "      <td>1.000000</td>\n",
       "    </tr>\n",
       "  </tbody>\n",
       "</table>\n",
       "<p>8 rows × 51 columns</p>\n",
       "</div>"
      ],
      "text/plain": [
       "        form_field1   form_field2   form_field3   form_field4   form_field5  \\\n",
       "count  45546.000000  45546.000000  45546.000000  45546.000000  45546.000000   \n",
       "mean    3514.822948      0.514103      0.823709      0.649162      1.216199   \n",
       "std      276.011393      0.808966      1.846511      2.709405      7.661039   \n",
       "min        0.000000      0.000000      0.000000      0.000000      0.000000   \n",
       "25%     3408.000000      0.048800      0.000000      0.000000      0.000000   \n",
       "50%     3512.000000      0.227175      0.000000      0.000000      0.000000   \n",
       "75%     3646.000000      0.676063      0.781400      0.000000      0.000000   \n",
       "max     3900.000000     18.015050     34.687800     91.672200    312.190200   \n",
       "\n",
       "        form_field6   form_field7   form_field8   form_field9  form_field10  \\\n",
       "count  4.554600e+04  4.554600e+04  4.554600e+04  4.554600e+04  4.554600e+04   \n",
       "mean   5.757969e+05  7.381626e+06  2.446655e+06  1.369959e+07  1.413780e+07   \n",
       "std    1.379553e+06  2.000636e+07  3.848382e+06  2.004456e+07  2.884978e+07   \n",
       "min    0.000000e+00  0.000000e+00  0.000000e+00  0.000000e+00  0.000000e+00   \n",
       "25%    3.501000e+03  8.865310e+05  1.155330e+05  1.568642e+06  1.388827e+06   \n",
       "50%    1.011400e+05  3.083992e+06  7.709980e+05  6.013940e+06  5.676872e+06   \n",
       "75%    4.247880e+05  7.547378e+06  3.359112e+06  1.788836e+07  1.653765e+07   \n",
       "max    5.313546e+07  2.158794e+09  1.037397e+08  3.200533e+08  2.191361e+09   \n",
       "\n",
       "       ...  form_field42  form_field43  form_field44  form_field45  \\\n",
       "count  ...  45546.000000  45546.000000  45546.000000  45546.000000   \n",
       "mean   ...      0.251534      7.794381      0.545818      0.031529   \n",
       "std    ...      0.305011      6.350193      0.202091      0.195387   \n",
       "min    ...      0.000000      0.000000      0.000000      0.000000   \n",
       "25%    ...      0.000000      3.030000      0.399224      0.000000   \n",
       "50%    ...      0.122221      6.060000      0.568416      0.000000   \n",
       "75%    ...      0.425810     11.110000      0.732060      0.000000   \n",
       "max    ...      2.200000     78.780000      0.800000      5.000000   \n",
       "\n",
       "       form_field46  form_field48  form_field49  form_field50  \\\n",
       "count  45546.000000  4.554600e+04  45546.000000  4.554600e+04   \n",
       "mean       0.050872  2.352712e+05      1.108354  5.848568e+05   \n",
       "std        0.249673  1.452408e+06      1.788795  5.700871e+06   \n",
       "min        0.000000  0.000000e+00      0.000000  0.000000e+00   \n",
       "25%        0.000000  0.000000e+00      0.000000  3.597288e-02   \n",
       "50%        0.000000  1.490635e+02      0.274760  1.583418e-01   \n",
       "75%        0.000000  7.407079e+02      1.488927  4.817528e-01   \n",
       "max        5.000000  5.321014e+07     28.000000  1.988498e+08   \n",
       "\n",
       "       form_field47_charge  form_field47_lending  \n",
       "count         45546.000000          45546.000000  \n",
       "mean              0.626619              0.373381  \n",
       "std               0.483707              0.483707  \n",
       "min               0.000000              0.000000  \n",
       "25%               0.000000              0.000000  \n",
       "50%               1.000000              0.000000  \n",
       "75%               1.000000              1.000000  \n",
       "max               1.000000              1.000000  \n",
       "\n",
       "[8 rows x 51 columns]"
      ]
     },
     "execution_count": 34,
     "metadata": {},
     "output_type": "execute_result"
    }
   ],
   "source": [
    "train[float_col_non_nan].describe()"
   ]
  },
  {
   "cell_type": "code",
   "execution_count": 35,
   "metadata": {},
   "outputs": [
    {
     "data": {
      "text/html": [
       "<div>\n",
       "<style scoped>\n",
       "    .dataframe tbody tr th:only-of-type {\n",
       "        vertical-align: middle;\n",
       "    }\n",
       "\n",
       "    .dataframe tbody tr th {\n",
       "        vertical-align: top;\n",
       "    }\n",
       "\n",
       "    .dataframe thead th {\n",
       "        text-align: right;\n",
       "    }\n",
       "</style>\n",
       "<table border=\"1\" class=\"dataframe\">\n",
       "  <thead>\n",
       "    <tr style=\"text-align: right;\">\n",
       "      <th></th>\n",
       "      <th>form_field1</th>\n",
       "      <th>form_field2</th>\n",
       "      <th>form_field3</th>\n",
       "      <th>form_field4</th>\n",
       "      <th>form_field5</th>\n",
       "      <th>form_field6</th>\n",
       "      <th>form_field7</th>\n",
       "      <th>form_field8</th>\n",
       "      <th>form_field9</th>\n",
       "      <th>form_field10</th>\n",
       "      <th>...</th>\n",
       "      <th>form_field42</th>\n",
       "      <th>form_field43</th>\n",
       "      <th>form_field44</th>\n",
       "      <th>form_field45</th>\n",
       "      <th>form_field46</th>\n",
       "      <th>form_field48</th>\n",
       "      <th>form_field49</th>\n",
       "      <th>form_field50</th>\n",
       "      <th>form_field47_charge</th>\n",
       "      <th>form_field47_lending</th>\n",
       "    </tr>\n",
       "  </thead>\n",
       "  <tbody>\n",
       "    <tr>\n",
       "      <th>count</th>\n",
       "      <td>22890.000000</td>\n",
       "      <td>22291.000000</td>\n",
       "      <td>23854.000000</td>\n",
       "      <td>23854.000000</td>\n",
       "      <td>23854.000000</td>\n",
       "      <td>1.839600e+04</td>\n",
       "      <td>2.176900e+04</td>\n",
       "      <td>1.839600e+04</td>\n",
       "      <td>2.060000e+04</td>\n",
       "      <td>2.385300e+04</td>\n",
       "      <td>...</td>\n",
       "      <td>23422.000000</td>\n",
       "      <td>23750.000000</td>\n",
       "      <td>21638.000000</td>\n",
       "      <td>10462.000000</td>\n",
       "      <td>17115.000000</td>\n",
       "      <td>1.507800e+04</td>\n",
       "      <td>23854.000000</td>\n",
       "      <td>1.920300e+04</td>\n",
       "      <td>24000.000000</td>\n",
       "      <td>24000.000000</td>\n",
       "    </tr>\n",
       "    <tr>\n",
       "      <th>mean</th>\n",
       "      <td>3492.284404</td>\n",
       "      <td>0.557676</td>\n",
       "      <td>1.065443</td>\n",
       "      <td>0.859146</td>\n",
       "      <td>2.183538</td>\n",
       "      <td>6.263036e+05</td>\n",
       "      <td>6.797033e+06</td>\n",
       "      <td>2.654142e+06</td>\n",
       "      <td>1.350593e+07</td>\n",
       "      <td>1.187478e+07</td>\n",
       "      <td>...</td>\n",
       "      <td>0.369684</td>\n",
       "      <td>6.580480</td>\n",
       "      <td>0.566219</td>\n",
       "      <td>0.066526</td>\n",
       "      <td>0.097926</td>\n",
       "      <td>3.015440e+05</td>\n",
       "      <td>1.064118</td>\n",
       "      <td>6.749843e+05</td>\n",
       "      <td>0.644458</td>\n",
       "      <td>0.355542</td>\n",
       "    </tr>\n",
       "    <tr>\n",
       "      <th>std</th>\n",
       "      <td>190.502764</td>\n",
       "      <td>0.826543</td>\n",
       "      <td>2.198444</td>\n",
       "      <td>3.403115</td>\n",
       "      <td>11.415706</td>\n",
       "      <td>1.457540e+06</td>\n",
       "      <td>1.626022e+07</td>\n",
       "      <td>3.968185e+06</td>\n",
       "      <td>2.289125e+07</td>\n",
       "      <td>2.477113e+07</td>\n",
       "      <td>...</td>\n",
       "      <td>0.414077</td>\n",
       "      <td>6.363075</td>\n",
       "      <td>0.196060</td>\n",
       "      <td>0.278211</td>\n",
       "      <td>0.370392</td>\n",
       "      <td>1.868574e+06</td>\n",
       "      <td>1.816837</td>\n",
       "      <td>6.561031e+06</td>\n",
       "      <td>0.478687</td>\n",
       "      <td>0.478687</td>\n",
       "    </tr>\n",
       "    <tr>\n",
       "      <th>min</th>\n",
       "      <td>2986.000000</td>\n",
       "      <td>0.000000</td>\n",
       "      <td>0.000000</td>\n",
       "      <td>0.000000</td>\n",
       "      <td>0.000000</td>\n",
       "      <td>0.000000e+00</td>\n",
       "      <td>0.000000e+00</td>\n",
       "      <td>0.000000e+00</td>\n",
       "      <td>0.000000e+00</td>\n",
       "      <td>0.000000e+00</td>\n",
       "      <td>...</td>\n",
       "      <td>0.000000</td>\n",
       "      <td>0.000000</td>\n",
       "      <td>0.066432</td>\n",
       "      <td>0.000000</td>\n",
       "      <td>0.000000</td>\n",
       "      <td>0.000000e+00</td>\n",
       "      <td>0.000000</td>\n",
       "      <td>0.000000e+00</td>\n",
       "      <td>0.000000</td>\n",
       "      <td>0.000000</td>\n",
       "    </tr>\n",
       "    <tr>\n",
       "      <th>25%</th>\n",
       "      <td>3356.000000</td>\n",
       "      <td>0.068675</td>\n",
       "      <td>0.000000</td>\n",
       "      <td>0.000000</td>\n",
       "      <td>0.000000</td>\n",
       "      <td>1.400400e+04</td>\n",
       "      <td>6.725810e+05</td>\n",
       "      <td>1.816630e+05</td>\n",
       "      <td>1.349441e+06</td>\n",
       "      <td>4.208980e+05</td>\n",
       "      <td>...</td>\n",
       "      <td>0.000000</td>\n",
       "      <td>2.020000</td>\n",
       "      <td>0.413268</td>\n",
       "      <td>0.000000</td>\n",
       "      <td>0.000000</td>\n",
       "      <td>7.272364e+01</td>\n",
       "      <td>0.000000</td>\n",
       "      <td>4.500510e-02</td>\n",
       "      <td>0.000000</td>\n",
       "      <td>0.000000</td>\n",
       "    </tr>\n",
       "    <tr>\n",
       "      <th>50%</th>\n",
       "      <td>3484.000000</td>\n",
       "      <td>0.273250</td>\n",
       "      <td>0.058200</td>\n",
       "      <td>0.000000</td>\n",
       "      <td>0.000000</td>\n",
       "      <td>1.155330e+05</td>\n",
       "      <td>2.719888e+06</td>\n",
       "      <td>9.594685e+05</td>\n",
       "      <td>5.529830e+06</td>\n",
       "      <td>3.651543e+06</td>\n",
       "      <td>...</td>\n",
       "      <td>0.220000</td>\n",
       "      <td>5.050000</td>\n",
       "      <td>0.592100</td>\n",
       "      <td>0.000000</td>\n",
       "      <td>0.000000</td>\n",
       "      <td>3.131754e+02</td>\n",
       "      <td>0.000000</td>\n",
       "      <td>1.680000e-01</td>\n",
       "      <td>1.000000</td>\n",
       "      <td>0.000000</td>\n",
       "    </tr>\n",
       "    <tr>\n",
       "      <th>75%</th>\n",
       "      <td>3624.000000</td>\n",
       "      <td>0.728850</td>\n",
       "      <td>1.304250</td>\n",
       "      <td>0.000000</td>\n",
       "      <td>0.000000</td>\n",
       "      <td>5.159112e+05</td>\n",
       "      <td>7.073576e+06</td>\n",
       "      <td>3.799849e+06</td>\n",
       "      <td>1.728658e+07</td>\n",
       "      <td>1.318126e+07</td>\n",
       "      <td>...</td>\n",
       "      <td>0.628573</td>\n",
       "      <td>10.100000</td>\n",
       "      <td>0.756544</td>\n",
       "      <td>0.000000</td>\n",
       "      <td>0.000000</td>\n",
       "      <td>1.195997e+03</td>\n",
       "      <td>1.254155</td>\n",
       "      <td>5.007093e-01</td>\n",
       "      <td>1.000000</td>\n",
       "      <td>1.000000</td>\n",
       "    </tr>\n",
       "    <tr>\n",
       "      <th>max</th>\n",
       "      <td>3900.000000</td>\n",
       "      <td>22.315050</td>\n",
       "      <td>34.541400</td>\n",
       "      <td>206.452800</td>\n",
       "      <td>297.885600</td>\n",
       "      <td>4.818738e+07</td>\n",
       "      <td>7.709887e+08</td>\n",
       "      <td>1.135141e+08</td>\n",
       "      <td>1.443921e+09</td>\n",
       "      <td>7.741014e+08</td>\n",
       "      <td>...</td>\n",
       "      <td>2.200000</td>\n",
       "      <td>91.910000</td>\n",
       "      <td>0.800000</td>\n",
       "      <td>5.000000</td>\n",
       "      <td>19.000000</td>\n",
       "      <td>1.213991e+08</td>\n",
       "      <td>24.000000</td>\n",
       "      <td>2.524591e+08</td>\n",
       "      <td>1.000000</td>\n",
       "      <td>1.000000</td>\n",
       "    </tr>\n",
       "  </tbody>\n",
       "</table>\n",
       "<p>8 rows × 51 columns</p>\n",
       "</div>"
      ],
      "text/plain": [
       "        form_field1   form_field2   form_field3   form_field4   form_field5  \\\n",
       "count  22890.000000  22291.000000  23854.000000  23854.000000  23854.000000   \n",
       "mean    3492.284404      0.557676      1.065443      0.859146      2.183538   \n",
       "std      190.502764      0.826543      2.198444      3.403115     11.415706   \n",
       "min     2986.000000      0.000000      0.000000      0.000000      0.000000   \n",
       "25%     3356.000000      0.068675      0.000000      0.000000      0.000000   \n",
       "50%     3484.000000      0.273250      0.058200      0.000000      0.000000   \n",
       "75%     3624.000000      0.728850      1.304250      0.000000      0.000000   \n",
       "max     3900.000000     22.315050     34.541400    206.452800    297.885600   \n",
       "\n",
       "        form_field6   form_field7   form_field8   form_field9  form_field10  \\\n",
       "count  1.839600e+04  2.176900e+04  1.839600e+04  2.060000e+04  2.385300e+04   \n",
       "mean   6.263036e+05  6.797033e+06  2.654142e+06  1.350593e+07  1.187478e+07   \n",
       "std    1.457540e+06  1.626022e+07  3.968185e+06  2.289125e+07  2.477113e+07   \n",
       "min    0.000000e+00  0.000000e+00  0.000000e+00  0.000000e+00  0.000000e+00   \n",
       "25%    1.400400e+04  6.725810e+05  1.816630e+05  1.349441e+06  4.208980e+05   \n",
       "50%    1.155330e+05  2.719888e+06  9.594685e+05  5.529830e+06  3.651543e+06   \n",
       "75%    5.159112e+05  7.073576e+06  3.799849e+06  1.728658e+07  1.318126e+07   \n",
       "max    4.818738e+07  7.709887e+08  1.135141e+08  1.443921e+09  7.741014e+08   \n",
       "\n",
       "       ...  form_field42  form_field43  form_field44  form_field45  \\\n",
       "count  ...  23422.000000  23750.000000  21638.000000  10462.000000   \n",
       "mean   ...      0.369684      6.580480      0.566219      0.066526   \n",
       "std    ...      0.414077      6.363075      0.196060      0.278211   \n",
       "min    ...      0.000000      0.000000      0.066432      0.000000   \n",
       "25%    ...      0.000000      2.020000      0.413268      0.000000   \n",
       "50%    ...      0.220000      5.050000      0.592100      0.000000   \n",
       "75%    ...      0.628573     10.100000      0.756544      0.000000   \n",
       "max    ...      2.200000     91.910000      0.800000      5.000000   \n",
       "\n",
       "       form_field46  form_field48  form_field49  form_field50  \\\n",
       "count  17115.000000  1.507800e+04  23854.000000  1.920300e+04   \n",
       "mean       0.097926  3.015440e+05      1.064118  6.749843e+05   \n",
       "std        0.370392  1.868574e+06      1.816837  6.561031e+06   \n",
       "min        0.000000  0.000000e+00      0.000000  0.000000e+00   \n",
       "25%        0.000000  7.272364e+01      0.000000  4.500510e-02   \n",
       "50%        0.000000  3.131754e+02      0.000000  1.680000e-01   \n",
       "75%        0.000000  1.195997e+03      1.254155  5.007093e-01   \n",
       "max       19.000000  1.213991e+08     24.000000  2.524591e+08   \n",
       "\n",
       "       form_field47_charge  form_field47_lending  \n",
       "count         24000.000000          24000.000000  \n",
       "mean              0.644458              0.355542  \n",
       "std               0.478687              0.478687  \n",
       "min               0.000000              0.000000  \n",
       "25%               0.000000              0.000000  \n",
       "50%               1.000000              0.000000  \n",
       "75%               1.000000              1.000000  \n",
       "max               1.000000              1.000000  \n",
       "\n",
       "[8 rows x 51 columns]"
      ]
     },
     "execution_count": 35,
     "metadata": {},
     "output_type": "execute_result"
    }
   ],
   "source": [
    "holdout[float_col_non_nan].describe()"
   ]
  },
  {
   "cell_type": "code",
   "execution_count": 36,
   "metadata": {},
   "outputs": [],
   "source": [
    "train[float_col_non_nan] = train[float_col_non_nan].fillna(0)"
   ]
  },
  {
   "cell_type": "code",
   "execution_count": 37,
   "metadata": {},
   "outputs": [],
   "source": [
    "X = train.drop('default_status', axis=1)\n",
    "y = train['default_status']"
   ]
  },
  {
   "cell_type": "code",
   "execution_count": 38,
   "metadata": {},
   "outputs": [],
   "source": [
    "X_train, X_test, y_train, y_test = train_test_split(X, y, random_state=0)"
   ]
  },
  {
   "cell_type": "code",
   "execution_count": 39,
   "metadata": {},
   "outputs": [
    {
     "name": "stdout",
     "output_type": "stream",
     "text": [
      "1.0\n",
      "0.8286642662685518\n"
     ]
    }
   ],
   "source": [
    "rfr.fit(X_train[float_col_non_nan], y_train)\n",
    "print(rfr.score(X_train[float_col_non_nan], y_train))\n",
    "print(rfr.score(X_test[float_col_non_nan], y_test))"
   ]
  },
  {
   "cell_type": "code",
   "execution_count": 40,
   "metadata": {},
   "outputs": [],
   "source": [
    "feature = []\n",
    "for col in int_col:\n",
    "    float_col_non_nan.append(col)\n",
    "    feature = float_col_non_nan"
   ]
  },
  {
   "cell_type": "code",
   "execution_count": 41,
   "metadata": {},
   "outputs": [
    {
     "data": {
      "text/plain": [
       "GradientBoostingClassifier(criterion='friedman_mse', init=None,\n",
       "                           learning_rate=0.1, loss='deviance', max_depth=3,\n",
       "                           max_features=None, max_leaf_nodes=None,\n",
       "                           min_impurity_decrease=0.0, min_impurity_split=None,\n",
       "                           min_samples_leaf=1, min_samples_split=2,\n",
       "                           min_weight_fraction_leaf=0.0, n_estimators=100,\n",
       "                           n_iter_no_change=None, presort='auto',\n",
       "                           random_state=None, subsample=1.0, tol=0.0001,\n",
       "                           validation_fraction=0.1, verbose=0,\n",
       "                           warm_start=False)"
      ]
     },
     "execution_count": 41,
     "metadata": {},
     "output_type": "execute_result"
    }
   ],
   "source": [
    "gbr.fit(X_train[float_col_non_nan], y_train)"
   ]
  },
  {
   "cell_type": "code",
   "execution_count": 42,
   "metadata": {},
   "outputs": [
    {
     "name": "stdout",
     "output_type": "stream",
     "text": [
      "0.8395737580139934\n",
      "0.8289277245982261\n"
     ]
    }
   ],
   "source": [
    "gbr.fit(X_train[feature], y_train)\n",
    "print(gbr.score(X_train[feature], y_train))\n",
    "print(gbr.score(X_test[feature], y_test))"
   ]
  },
  {
   "cell_type": "code",
   "execution_count": 43,
   "metadata": {},
   "outputs": [],
   "source": [
    "def plot_correlation_heatmap(df):\n",
    "    corr = df.corr()\n",
    "    sns.set(style='white')\n",
    "    mask = np.zeros_like(corr, dtype=np.bool)\n",
    "    mask[np.triu_indices_from(mask)] = True\n",
    "    f, ax = plt.subplots(figsize=(20, 18))\n",
    "    cmap = sns.diverging_palette(220, 10, as_cmap=True)\n",
    "    sns.heatmap(corr, mask=mask, cmap=cmap,vmax=0.3, center=0, square=True, linewidths=.5, cbar_kws={'shrink': 0.5})\n",
    "    plt.show()"
   ]
  },
  {
   "cell_type": "code",
   "execution_count": 44,
   "metadata": {},
   "outputs": [
    {
     "data": {
      "text/plain": [
       "['form_field1',\n",
       " 'form_field2',\n",
       " 'form_field3',\n",
       " 'form_field4',\n",
       " 'form_field5',\n",
       " 'form_field6',\n",
       " 'form_field7',\n",
       " 'form_field8',\n",
       " 'form_field9',\n",
       " 'form_field10',\n",
       " 'form_field11',\n",
       " 'form_field12',\n",
       " 'form_field13',\n",
       " 'form_field14',\n",
       " 'form_field15',\n",
       " 'form_field16',\n",
       " 'form_field17',\n",
       " 'form_field18',\n",
       " 'form_field19',\n",
       " 'form_field20',\n",
       " 'form_field21',\n",
       " 'form_field22',\n",
       " 'form_field23',\n",
       " 'form_field24',\n",
       " 'form_field25',\n",
       " 'form_field26',\n",
       " 'form_field27',\n",
       " 'form_field28',\n",
       " 'form_field29',\n",
       " 'form_field30',\n",
       " 'form_field31',\n",
       " 'form_field32',\n",
       " 'form_field33',\n",
       " 'form_field34',\n",
       " 'form_field35',\n",
       " 'form_field36',\n",
       " 'form_field37',\n",
       " 'form_field38',\n",
       " 'form_field39',\n",
       " 'form_field40',\n",
       " 'form_field41',\n",
       " 'form_field42',\n",
       " 'form_field43',\n",
       " 'form_field44',\n",
       " 'form_field45',\n",
       " 'form_field46',\n",
       " 'form_field48',\n",
       " 'form_field49',\n",
       " 'form_field50',\n",
       " 'form_field47_charge',\n",
       " 'form_field47_lending',\n",
       " 'form_field14']"
      ]
     },
     "execution_count": 44,
     "metadata": {},
     "output_type": "execute_result"
    }
   ],
   "source": [
    "float_col_non_nan"
   ]
  },
  {
   "cell_type": "code",
   "execution_count": 45,
   "metadata": {},
   "outputs": [],
   "source": [
    "for col in float_col_non_nan1:\n",
    "    float_col_non_nan.append(col)"
   ]
  },
  {
   "cell_type": "code",
   "execution_count": 46,
   "metadata": {},
   "outputs": [],
   "source": [
    "float_col_non_nan = list(dict.fromkeys(float_col_non_nan))"
   ]
  },
  {
   "cell_type": "code",
   "execution_count": 47,
   "metadata": {},
   "outputs": [
    {
     "data": {
      "image/png": "[encoded data removed]",
      "text/plain": [
       "<Figure size 1440x1296 with 2 Axes>"
      ]
     },
     "metadata": {},
     "output_type": "display_data"
    }
   ],
   "source": [
    "plot_correlation_heatmap(train[float_col_non_nan])"
   ]
  },
  {
   "cell_type": "code",
   "execution_count": null,
   "metadata": {},
   "outputs": [],
   "source": []
  },
  {
   "cell_type": "code",
   "execution_count": 48,
   "metadata": {},
   "outputs": [
    {
     "name": "stdout",
     "output_type": "stream",
     "text": [
      "Index(['form_field1', 'form_field2', 'form_field3', 'form_field4',\n",
      "       'form_field6', 'form_field7', 'form_field8', 'form_field9',\n",
      "       'form_field10', 'form_field13', 'form_field15', 'form_field16',\n",
      "       'form_field17', 'form_field18', 'form_field19', 'form_field21',\n",
      "       'form_field22', 'form_field23', 'form_field24', 'form_field25',\n",
      "       'form_field26', 'form_field28', 'form_field29', 'form_field30',\n",
      "       'form_field31', 'form_field32', 'form_field34', 'form_field35',\n",
      "       'form_field36', 'form_field37', 'form_field38', 'form_field40',\n",
      "       'form_field41', 'form_field42', 'form_field43', 'form_field45',\n",
      "       'form_field49', 'form_field47_charge', 'form_field47_lending'],\n",
      "      dtype='object')\n"
     ]
    }
   ],
   "source": [
    "selector = RFECV(gbr, cv=5)\n",
    "selector.fit(X_train[float_col_non_nan], y_train)\n",
    "print(X_train[float_col_non_nan].columns[selector.support_])"
   ]
  },
  {
   "cell_type": "code",
   "execution_count": 49,
   "metadata": {},
   "outputs": [
    {
     "data": {
      "text/plain": [
       "Index(['form_field1', 'form_field2', 'form_field3', 'form_field4',\n",
       "       'form_field6', 'form_field7', 'form_field8', 'form_field9',\n",
       "       'form_field10', 'form_field13', 'form_field15', 'form_field16',\n",
       "       'form_field17', 'form_field18', 'form_field19', 'form_field21',\n",
       "       'form_field22', 'form_field23', 'form_field24', 'form_field25',\n",
       "       'form_field26', 'form_field28', 'form_field29', 'form_field30',\n",
       "       'form_field31', 'form_field32', 'form_field34', 'form_field35',\n",
       "       'form_field36', 'form_field37', 'form_field38', 'form_field40',\n",
       "       'form_field41', 'form_field42', 'form_field43', 'form_field45',\n",
       "       'form_field49', 'form_field47_charge', 'form_field47_lending'],\n",
       "      dtype='object')"
      ]
     },
     "execution_count": 49,
     "metadata": {},
     "output_type": "execute_result"
    }
   ],
   "source": [
    "optimized_columns = X_train[float_col_non_nan].columns[selector.support_]\n",
    "optimized_columns"
   ]
  },
  {
   "cell_type": "code",
   "execution_count": 50,
   "metadata": {},
   "outputs": [
    {
     "name": "stdout",
     "output_type": "stream",
     "text": [
      "0.8388711613337627\n",
      "0.8293668218143497\n"
     ]
    }
   ],
   "source": [
    "gbr.fit(X_train[optimized_columns], y_train)\n",
    "print(gbr.score(X_train[optimized_columns], y_train))\n",
    "print(gbr.score(X_test[optimized_columns], y_test))"
   ]
  },
  {
   "cell_type": "code",
   "execution_count": 51,
   "metadata": {},
   "outputs": [
    {
     "data": {
      "text/plain": [
       "array([0.37633645, 0.09108468, 0.00458627, 0.00721845, 0.11684959,\n",
       "       0.00490474, 0.01693183, 0.02550382, 0.0047927 , 0.00370352,\n",
       "       0.00572463, 0.00333588, 0.00921728, 0.02383683, 0.02271001,\n",
       "       0.01073448, 0.00767572, 0.01430933, 0.0160977 , 0.04062553,\n",
       "       0.00494585, 0.00447274, 0.00250064, 0.0038737 , 0.00258988,\n",
       "       0.00610488, 0.01432168, 0.01838063, 0.00759012, 0.02162882,\n",
       "       0.00748279, 0.01040726, 0.00436485, 0.00552686, 0.00492943,\n",
       "       0.00198415, 0.01203102, 0.03885641, 0.02182883])"
      ]
     },
     "execution_count": 51,
     "metadata": {},
     "output_type": "execute_result"
    }
   ],
   "source": [
    "gbr.feature_importances_"
   ]
  },
  {
   "cell_type": "code",
   "execution_count": 52,
   "metadata": {},
   "outputs": [
    {
     "data": {
      "text/html": [
       "<div>\n",
       "<style scoped>\n",
       "    .dataframe tbody tr th:only-of-type {\n",
       "        vertical-align: middle;\n",
       "    }\n",
       "\n",
       "    .dataframe tbody tr th {\n",
       "        vertical-align: top;\n",
       "    }\n",
       "\n",
       "    .dataframe thead th {\n",
       "        text-align: right;\n",
       "    }\n",
       "</style>\n",
       "<table border=\"1\" class=\"dataframe\">\n",
       "  <thead>\n",
       "    <tr style=\"text-align: right;\">\n",
       "      <th></th>\n",
       "      <th>0</th>\n",
       "      <th>1</th>\n",
       "    </tr>\n",
       "  </thead>\n",
       "  <tbody>\n",
       "    <tr>\n",
       "      <th>0</th>\n",
       "      <td>form_field1</td>\n",
       "      <td>0.376336</td>\n",
       "    </tr>\n",
       "    <tr>\n",
       "      <th>4</th>\n",
       "      <td>form_field6</td>\n",
       "      <td>0.116850</td>\n",
       "    </tr>\n",
       "    <tr>\n",
       "      <th>1</th>\n",
       "      <td>form_field2</td>\n",
       "      <td>0.091085</td>\n",
       "    </tr>\n",
       "    <tr>\n",
       "      <th>19</th>\n",
       "      <td>form_field25</td>\n",
       "      <td>0.040626</td>\n",
       "    </tr>\n",
       "    <tr>\n",
       "      <th>37</th>\n",
       "      <td>form_field47_charge</td>\n",
       "      <td>0.038856</td>\n",
       "    </tr>\n",
       "    <tr>\n",
       "      <th>7</th>\n",
       "      <td>form_field9</td>\n",
       "      <td>0.025504</td>\n",
       "    </tr>\n",
       "    <tr>\n",
       "      <th>13</th>\n",
       "      <td>form_field18</td>\n",
       "      <td>0.023837</td>\n",
       "    </tr>\n",
       "    <tr>\n",
       "      <th>14</th>\n",
       "      <td>form_field19</td>\n",
       "      <td>0.022710</td>\n",
       "    </tr>\n",
       "    <tr>\n",
       "      <th>38</th>\n",
       "      <td>form_field47_lending</td>\n",
       "      <td>0.021829</td>\n",
       "    </tr>\n",
       "    <tr>\n",
       "      <th>29</th>\n",
       "      <td>form_field37</td>\n",
       "      <td>0.021629</td>\n",
       "    </tr>\n",
       "    <tr>\n",
       "      <th>27</th>\n",
       "      <td>form_field35</td>\n",
       "      <td>0.018381</td>\n",
       "    </tr>\n",
       "    <tr>\n",
       "      <th>6</th>\n",
       "      <td>form_field8</td>\n",
       "      <td>0.016932</td>\n",
       "    </tr>\n",
       "    <tr>\n",
       "      <th>18</th>\n",
       "      <td>form_field24</td>\n",
       "      <td>0.016098</td>\n",
       "    </tr>\n",
       "    <tr>\n",
       "      <th>26</th>\n",
       "      <td>form_field34</td>\n",
       "      <td>0.014322</td>\n",
       "    </tr>\n",
       "    <tr>\n",
       "      <th>17</th>\n",
       "      <td>form_field23</td>\n",
       "      <td>0.014309</td>\n",
       "    </tr>\n",
       "    <tr>\n",
       "      <th>36</th>\n",
       "      <td>form_field49</td>\n",
       "      <td>0.012031</td>\n",
       "    </tr>\n",
       "    <tr>\n",
       "      <th>15</th>\n",
       "      <td>form_field21</td>\n",
       "      <td>0.010734</td>\n",
       "    </tr>\n",
       "    <tr>\n",
       "      <th>31</th>\n",
       "      <td>form_field40</td>\n",
       "      <td>0.010407</td>\n",
       "    </tr>\n",
       "    <tr>\n",
       "      <th>12</th>\n",
       "      <td>form_field17</td>\n",
       "      <td>0.009217</td>\n",
       "    </tr>\n",
       "    <tr>\n",
       "      <th>16</th>\n",
       "      <td>form_field22</td>\n",
       "      <td>0.007676</td>\n",
       "    </tr>\n",
       "    <tr>\n",
       "      <th>28</th>\n",
       "      <td>form_field36</td>\n",
       "      <td>0.007590</td>\n",
       "    </tr>\n",
       "    <tr>\n",
       "      <th>30</th>\n",
       "      <td>form_field38</td>\n",
       "      <td>0.007483</td>\n",
       "    </tr>\n",
       "    <tr>\n",
       "      <th>3</th>\n",
       "      <td>form_field4</td>\n",
       "      <td>0.007218</td>\n",
       "    </tr>\n",
       "    <tr>\n",
       "      <th>25</th>\n",
       "      <td>form_field32</td>\n",
       "      <td>0.006105</td>\n",
       "    </tr>\n",
       "    <tr>\n",
       "      <th>10</th>\n",
       "      <td>form_field15</td>\n",
       "      <td>0.005725</td>\n",
       "    </tr>\n",
       "    <tr>\n",
       "      <th>33</th>\n",
       "      <td>form_field42</td>\n",
       "      <td>0.005527</td>\n",
       "    </tr>\n",
       "    <tr>\n",
       "      <th>20</th>\n",
       "      <td>form_field26</td>\n",
       "      <td>0.004946</td>\n",
       "    </tr>\n",
       "    <tr>\n",
       "      <th>34</th>\n",
       "      <td>form_field43</td>\n",
       "      <td>0.004929</td>\n",
       "    </tr>\n",
       "    <tr>\n",
       "      <th>5</th>\n",
       "      <td>form_field7</td>\n",
       "      <td>0.004905</td>\n",
       "    </tr>\n",
       "    <tr>\n",
       "      <th>8</th>\n",
       "      <td>form_field10</td>\n",
       "      <td>0.004793</td>\n",
       "    </tr>\n",
       "    <tr>\n",
       "      <th>2</th>\n",
       "      <td>form_field3</td>\n",
       "      <td>0.004586</td>\n",
       "    </tr>\n",
       "    <tr>\n",
       "      <th>21</th>\n",
       "      <td>form_field28</td>\n",
       "      <td>0.004473</td>\n",
       "    </tr>\n",
       "    <tr>\n",
       "      <th>32</th>\n",
       "      <td>form_field41</td>\n",
       "      <td>0.004365</td>\n",
       "    </tr>\n",
       "    <tr>\n",
       "      <th>23</th>\n",
       "      <td>form_field30</td>\n",
       "      <td>0.003874</td>\n",
       "    </tr>\n",
       "    <tr>\n",
       "      <th>9</th>\n",
       "      <td>form_field13</td>\n",
       "      <td>0.003704</td>\n",
       "    </tr>\n",
       "    <tr>\n",
       "      <th>11</th>\n",
       "      <td>form_field16</td>\n",
       "      <td>0.003336</td>\n",
       "    </tr>\n",
       "    <tr>\n",
       "      <th>24</th>\n",
       "      <td>form_field31</td>\n",
       "      <td>0.002590</td>\n",
       "    </tr>\n",
       "    <tr>\n",
       "      <th>22</th>\n",
       "      <td>form_field29</td>\n",
       "      <td>0.002501</td>\n",
       "    </tr>\n",
       "    <tr>\n",
       "      <th>35</th>\n",
       "      <td>form_field45</td>\n",
       "      <td>0.001984</td>\n",
       "    </tr>\n",
       "  </tbody>\n",
       "</table>\n",
       "</div>"
      ],
      "text/plain": [
       "                       0         1\n",
       "0            form_field1  0.376336\n",
       "4            form_field6  0.116850\n",
       "1            form_field2  0.091085\n",
       "19          form_field25  0.040626\n",
       "37   form_field47_charge  0.038856\n",
       "7            form_field9  0.025504\n",
       "13          form_field18  0.023837\n",
       "14          form_field19  0.022710\n",
       "38  form_field47_lending  0.021829\n",
       "29          form_field37  0.021629\n",
       "27          form_field35  0.018381\n",
       "6            form_field8  0.016932\n",
       "18          form_field24  0.016098\n",
       "26          form_field34  0.014322\n",
       "17          form_field23  0.014309\n",
       "36          form_field49  0.012031\n",
       "15          form_field21  0.010734\n",
       "31          form_field40  0.010407\n",
       "12          form_field17  0.009217\n",
       "16          form_field22  0.007676\n",
       "28          form_field36  0.007590\n",
       "30          form_field38  0.007483\n",
       "3            form_field4  0.007218\n",
       "25          form_field32  0.006105\n",
       "10          form_field15  0.005725\n",
       "33          form_field42  0.005527\n",
       "20          form_field26  0.004946\n",
       "34          form_field43  0.004929\n",
       "5            form_field7  0.004905\n",
       "8           form_field10  0.004793\n",
       "2            form_field3  0.004586\n",
       "21          form_field28  0.004473\n",
       "32          form_field41  0.004365\n",
       "23          form_field30  0.003874\n",
       "9           form_field13  0.003704\n",
       "11          form_field16  0.003336\n",
       "24          form_field31  0.002590\n",
       "22          form_field29  0.002501\n",
       "35          form_field45  0.001984"
      ]
     },
     "execution_count": 52,
     "metadata": {},
     "output_type": "execute_result"
    }
   ],
   "source": [
    "importance = list(zip(optimized_columns, gbr.feature_importances_))\n",
    "importance = pd.DataFrame(importance)\n",
    "sort_importance = importance.sort_values(1, ascending=False)\n",
    "sort_importance"
   ]
  },
  {
   "cell_type": "code",
   "execution_count": 53,
   "metadata": {},
   "outputs": [],
   "source": [
    "sort_importance1 = sort_importance[sort_importance[1]>=0.01]"
   ]
  },
  {
   "cell_type": "code",
   "execution_count": 54,
   "metadata": {},
   "outputs": [
    {
     "data": {
      "text/html": [
       "<div>\n",
       "<style scoped>\n",
       "    .dataframe tbody tr th:only-of-type {\n",
       "        vertical-align: middle;\n",
       "    }\n",
       "\n",
       "    .dataframe tbody tr th {\n",
       "        vertical-align: top;\n",
       "    }\n",
       "\n",
       "    .dataframe thead th {\n",
       "        text-align: right;\n",
       "    }\n",
       "</style>\n",
       "<table border=\"1\" class=\"dataframe\">\n",
       "  <thead>\n",
       "    <tr style=\"text-align: right;\">\n",
       "      <th></th>\n",
       "      <th>0</th>\n",
       "      <th>1</th>\n",
       "    </tr>\n",
       "  </thead>\n",
       "  <tbody>\n",
       "    <tr>\n",
       "      <th>0</th>\n",
       "      <td>form_field1</td>\n",
       "      <td>0.376336</td>\n",
       "    </tr>\n",
       "    <tr>\n",
       "      <th>4</th>\n",
       "      <td>form_field6</td>\n",
       "      <td>0.116850</td>\n",
       "    </tr>\n",
       "    <tr>\n",
       "      <th>1</th>\n",
       "      <td>form_field2</td>\n",
       "      <td>0.091085</td>\n",
       "    </tr>\n",
       "    <tr>\n",
       "      <th>19</th>\n",
       "      <td>form_field25</td>\n",
       "      <td>0.040626</td>\n",
       "    </tr>\n",
       "    <tr>\n",
       "      <th>37</th>\n",
       "      <td>form_field47_charge</td>\n",
       "      <td>0.038856</td>\n",
       "    </tr>\n",
       "    <tr>\n",
       "      <th>7</th>\n",
       "      <td>form_field9</td>\n",
       "      <td>0.025504</td>\n",
       "    </tr>\n",
       "    <tr>\n",
       "      <th>13</th>\n",
       "      <td>form_field18</td>\n",
       "      <td>0.023837</td>\n",
       "    </tr>\n",
       "    <tr>\n",
       "      <th>14</th>\n",
       "      <td>form_field19</td>\n",
       "      <td>0.022710</td>\n",
       "    </tr>\n",
       "    <tr>\n",
       "      <th>38</th>\n",
       "      <td>form_field47_lending</td>\n",
       "      <td>0.021829</td>\n",
       "    </tr>\n",
       "    <tr>\n",
       "      <th>29</th>\n",
       "      <td>form_field37</td>\n",
       "      <td>0.021629</td>\n",
       "    </tr>\n",
       "    <tr>\n",
       "      <th>27</th>\n",
       "      <td>form_field35</td>\n",
       "      <td>0.018381</td>\n",
       "    </tr>\n",
       "    <tr>\n",
       "      <th>6</th>\n",
       "      <td>form_field8</td>\n",
       "      <td>0.016932</td>\n",
       "    </tr>\n",
       "    <tr>\n",
       "      <th>18</th>\n",
       "      <td>form_field24</td>\n",
       "      <td>0.016098</td>\n",
       "    </tr>\n",
       "    <tr>\n",
       "      <th>26</th>\n",
       "      <td>form_field34</td>\n",
       "      <td>0.014322</td>\n",
       "    </tr>\n",
       "    <tr>\n",
       "      <th>17</th>\n",
       "      <td>form_field23</td>\n",
       "      <td>0.014309</td>\n",
       "    </tr>\n",
       "    <tr>\n",
       "      <th>36</th>\n",
       "      <td>form_field49</td>\n",
       "      <td>0.012031</td>\n",
       "    </tr>\n",
       "    <tr>\n",
       "      <th>15</th>\n",
       "      <td>form_field21</td>\n",
       "      <td>0.010734</td>\n",
       "    </tr>\n",
       "    <tr>\n",
       "      <th>31</th>\n",
       "      <td>form_field40</td>\n",
       "      <td>0.010407</td>\n",
       "    </tr>\n",
       "  </tbody>\n",
       "</table>\n",
       "</div>"
      ],
      "text/plain": [
       "                       0         1\n",
       "0            form_field1  0.376336\n",
       "4            form_field6  0.116850\n",
       "1            form_field2  0.091085\n",
       "19          form_field25  0.040626\n",
       "37   form_field47_charge  0.038856\n",
       "7            form_field9  0.025504\n",
       "13          form_field18  0.023837\n",
       "14          form_field19  0.022710\n",
       "38  form_field47_lending  0.021829\n",
       "29          form_field37  0.021629\n",
       "27          form_field35  0.018381\n",
       "6            form_field8  0.016932\n",
       "18          form_field24  0.016098\n",
       "26          form_field34  0.014322\n",
       "17          form_field23  0.014309\n",
       "36          form_field49  0.012031\n",
       "15          form_field21  0.010734\n",
       "31          form_field40  0.010407"
      ]
     },
     "execution_count": 54,
     "metadata": {},
     "output_type": "execute_result"
    }
   ],
   "source": [
    "sort_importance1"
   ]
  },
  {
   "cell_type": "code",
   "execution_count": 55,
   "metadata": {},
   "outputs": [
    {
     "name": "stdout",
     "output_type": "stream",
     "text": [
      "0.8354460025176381\n",
      "0.8264687801879336\n"
     ]
    }
   ],
   "source": [
    "new_col = list(sort_importance1[0])\n",
    "gbr.fit(X_train[new_col], y_train)\n",
    "print(gbr.score(X_train[new_col], y_train))\n",
    "print(gbr.score(X_test[new_col], y_test))"
   ]
  },
  {
   "cell_type": "code",
   "execution_count": 56,
   "metadata": {},
   "outputs": [
    {
     "data": {
      "text/plain": [
       "array([0.40258913, 0.12281549, 0.09844256, 0.0510217 , 0.03223516,\n",
       "       0.03157673, 0.03720577, 0.02487274, 0.0318092 , 0.0251032 ,\n",
       "       0.02226546, 0.01988509, 0.01856563, 0.01742746, 0.01964953,\n",
       "       0.01390287, 0.0156419 , 0.01499037])"
      ]
     },
     "execution_count": 56,
     "metadata": {},
     "output_type": "execute_result"
    }
   ],
   "source": [
    "gbr.feature_importances_"
   ]
  },
  {
   "cell_type": "code",
   "execution_count": 57,
   "metadata": {},
   "outputs": [],
   "source": [
    "holdout[new_col] = holdout[new_col].fillna(0)"
   ]
  },
  {
   "cell_type": "code",
   "execution_count": 58,
   "metadata": {},
   "outputs": [],
   "source": [
    "#holdout[optimized_columns] = holdout[optimized_columns].fillna(0)"
   ]
  },
  {
   "cell_type": "code",
   "execution_count": 59,
   "metadata": {},
   "outputs": [
    {
     "data": {
      "text/plain": [
       "array([0, 0, 0, ..., 0, 1, 0], dtype=int64)"
      ]
     },
     "execution_count": 59,
     "metadata": {},
     "output_type": "execute_result"
    }
   ],
   "source": [
    "holdout_prediction = gbr.predict(holdout[new_col])\n",
    "holdout_prediction"
   ]
  },
  {
   "cell_type": "code",
   "execution_count": 61,
   "metadata": {},
   "outputs": [],
   "source": [
    "#holdout_predictions = gbr.predict(holdout[optimized_columns])"
   ]
  },
  {
   "cell_type": "code",
   "execution_count": 63,
   "metadata": {},
   "outputs": [],
   "source": [
    "#holdout_predictions"
   ]
  },
  {
   "cell_type": "code",
   "execution_count": 64,
   "metadata": {},
   "outputs": [
    {
     "data": {
      "text/html": [
       "<div>\n",
       "<style scoped>\n",
       "    .dataframe tbody tr th:only-of-type {\n",
       "        vertical-align: middle;\n",
       "    }\n",
       "\n",
       "    .dataframe tbody tr th {\n",
       "        vertical-align: top;\n",
       "    }\n",
       "\n",
       "    .dataframe thead th {\n",
       "        text-align: right;\n",
       "    }\n",
       "</style>\n",
       "<table border=\"1\" class=\"dataframe\">\n",
       "  <thead>\n",
       "    <tr style=\"text-align: right;\">\n",
       "      <th></th>\n",
       "      <th>form_field1</th>\n",
       "      <th>form_field2</th>\n",
       "      <th>form_field3</th>\n",
       "      <th>form_field4</th>\n",
       "      <th>form_field6</th>\n",
       "      <th>form_field7</th>\n",
       "      <th>form_field8</th>\n",
       "      <th>form_field9</th>\n",
       "      <th>form_field10</th>\n",
       "      <th>form_field13</th>\n",
       "      <th>...</th>\n",
       "      <th>form_field37</th>\n",
       "      <th>form_field38</th>\n",
       "      <th>form_field40</th>\n",
       "      <th>form_field41</th>\n",
       "      <th>form_field42</th>\n",
       "      <th>form_field43</th>\n",
       "      <th>form_field45</th>\n",
       "      <th>form_field49</th>\n",
       "      <th>form_field47_charge</th>\n",
       "      <th>form_field47_lending</th>\n",
       "    </tr>\n",
       "  </thead>\n",
       "  <tbody>\n",
       "    <tr>\n",
       "      <th>count</th>\n",
       "      <td>24000.000000</td>\n",
       "      <td>24000.000000</td>\n",
       "      <td>23854.000000</td>\n",
       "      <td>23854.000000</td>\n",
       "      <td>2.400000e+04</td>\n",
       "      <td>2.176900e+04</td>\n",
       "      <td>2.400000e+04</td>\n",
       "      <td>2.400000e+04</td>\n",
       "      <td>2.385300e+04</td>\n",
       "      <td>2.153700e+04</td>\n",
       "      <td>...</td>\n",
       "      <td>24000.000000</td>\n",
       "      <td>23853.000000</td>\n",
       "      <td>24000.000000</td>\n",
       "      <td>7651.000000</td>\n",
       "      <td>23422.000000</td>\n",
       "      <td>23750.000000</td>\n",
       "      <td>10462.000000</td>\n",
       "      <td>24000.000000</td>\n",
       "      <td>24000.000000</td>\n",
       "      <td>24000.000000</td>\n",
       "    </tr>\n",
       "    <tr>\n",
       "      <th>mean</th>\n",
       "      <td>3330.766250</td>\n",
       "      <td>0.517965</td>\n",
       "      <td>1.065443</td>\n",
       "      <td>0.859146</td>\n",
       "      <td>4.800617e+05</td>\n",
       "      <td>6.797033e+06</td>\n",
       "      <td>2.034400e+06</td>\n",
       "      <td>1.159259e+07</td>\n",
       "      <td>1.187478e+07</td>\n",
       "      <td>5.984000e+06</td>\n",
       "      <td>...</td>\n",
       "      <td>7.750417</td>\n",
       "      <td>8.506184</td>\n",
       "      <td>31.812817</td>\n",
       "      <td>108.209648</td>\n",
       "      <td>0.369684</td>\n",
       "      <td>6.580480</td>\n",
       "      <td>0.066526</td>\n",
       "      <td>1.057645</td>\n",
       "      <td>0.644458</td>\n",
       "      <td>0.355542</td>\n",
       "    </tr>\n",
       "    <tr>\n",
       "      <th>std</th>\n",
       "      <td>756.712886</td>\n",
       "      <td>0.809379</td>\n",
       "      <td>2.198444</td>\n",
       "      <td>3.403115</td>\n",
       "      <td>1.303287e+06</td>\n",
       "      <td>1.626022e+07</td>\n",
       "      <td>3.651080e+06</td>\n",
       "      <td>2.172448e+07</td>\n",
       "      <td>2.477113e+07</td>\n",
       "      <td>1.947650e+07</td>\n",
       "      <td>...</td>\n",
       "      <td>9.352425</td>\n",
       "      <td>7.833898</td>\n",
       "      <td>63.981527</td>\n",
       "      <td>36.426276</td>\n",
       "      <td>0.414077</td>\n",
       "      <td>6.363075</td>\n",
       "      <td>0.278211</td>\n",
       "      <td>1.813191</td>\n",
       "      <td>0.478687</td>\n",
       "      <td>0.478687</td>\n",
       "    </tr>\n",
       "    <tr>\n",
       "      <th>min</th>\n",
       "      <td>0.000000</td>\n",
       "      <td>0.000000</td>\n",
       "      <td>0.000000</td>\n",
       "      <td>0.000000</td>\n",
       "      <td>0.000000e+00</td>\n",
       "      <td>0.000000e+00</td>\n",
       "      <td>0.000000e+00</td>\n",
       "      <td>0.000000e+00</td>\n",
       "      <td>0.000000e+00</td>\n",
       "      <td>0.000000e+00</td>\n",
       "      <td>...</td>\n",
       "      <td>0.000000</td>\n",
       "      <td>0.000000</td>\n",
       "      <td>0.000000</td>\n",
       "      <td>0.000000</td>\n",
       "      <td>0.000000</td>\n",
       "      <td>0.000000</td>\n",
       "      <td>0.000000</td>\n",
       "      <td>0.000000</td>\n",
       "      <td>0.000000</td>\n",
       "      <td>0.000000</td>\n",
       "    </tr>\n",
       "    <tr>\n",
       "      <th>25%</th>\n",
       "      <td>3332.000000</td>\n",
       "      <td>0.046350</td>\n",
       "      <td>0.000000</td>\n",
       "      <td>0.000000</td>\n",
       "      <td>0.000000e+00</td>\n",
       "      <td>6.725810e+05</td>\n",
       "      <td>0.000000e+00</td>\n",
       "      <td>4.240100e+05</td>\n",
       "      <td>4.208980e+05</td>\n",
       "      <td>2.007240e+05</td>\n",
       "      <td>...</td>\n",
       "      <td>0.000000</td>\n",
       "      <td>4.000000</td>\n",
       "      <td>0.000000</td>\n",
       "      <td>87.499500</td>\n",
       "      <td>0.000000</td>\n",
       "      <td>2.020000</td>\n",
       "      <td>0.000000</td>\n",
       "      <td>0.000000</td>\n",
       "      <td>0.000000</td>\n",
       "      <td>0.000000</td>\n",
       "    </tr>\n",
       "    <tr>\n",
       "      <th>50%</th>\n",
       "      <td>3472.000000</td>\n",
       "      <td>0.228800</td>\n",
       "      <td>0.058200</td>\n",
       "      <td>0.000000</td>\n",
       "      <td>4.240100e+04</td>\n",
       "      <td>2.719888e+06</td>\n",
       "      <td>3.619645e+05</td>\n",
       "      <td>3.665936e+06</td>\n",
       "      <td>3.651543e+06</td>\n",
       "      <td>1.563391e+06</td>\n",
       "      <td>...</td>\n",
       "      <td>4.000000</td>\n",
       "      <td>6.000000</td>\n",
       "      <td>0.000000</td>\n",
       "      <td>117.984000</td>\n",
       "      <td>0.220000</td>\n",
       "      <td>5.050000</td>\n",
       "      <td>0.000000</td>\n",
       "      <td>0.000000</td>\n",
       "      <td>1.000000</td>\n",
       "      <td>0.000000</td>\n",
       "    </tr>\n",
       "    <tr>\n",
       "      <th>75%</th>\n",
       "      <td>3614.000000</td>\n",
       "      <td>0.680050</td>\n",
       "      <td>1.304250</td>\n",
       "      <td>0.000000</td>\n",
       "      <td>3.084770e+05</td>\n",
       "      <td>7.073576e+06</td>\n",
       "      <td>2.499811e+06</td>\n",
       "      <td>1.434048e+07</td>\n",
       "      <td>1.318126e+07</td>\n",
       "      <td>5.582150e+06</td>\n",
       "      <td>...</td>\n",
       "      <td>12.000000</td>\n",
       "      <td>12.000000</td>\n",
       "      <td>0.000000</td>\n",
       "      <td>137.207250</td>\n",
       "      <td>0.628573</td>\n",
       "      <td>10.100000</td>\n",
       "      <td>0.000000</td>\n",
       "      <td>1.235216</td>\n",
       "      <td>1.000000</td>\n",
       "      <td>1.000000</td>\n",
       "    </tr>\n",
       "    <tr>\n",
       "      <th>max</th>\n",
       "      <td>3900.000000</td>\n",
       "      <td>22.315050</td>\n",
       "      <td>34.541400</td>\n",
       "      <td>206.452800</td>\n",
       "      <td>4.818738e+07</td>\n",
       "      <td>7.709887e+08</td>\n",
       "      <td>1.135141e+08</td>\n",
       "      <td>1.443921e+09</td>\n",
       "      <td>7.741014e+08</td>\n",
       "      <td>1.387407e+09</td>\n",
       "      <td>...</td>\n",
       "      <td>120.000000</td>\n",
       "      <td>190.000000</td>\n",
       "      <td>401.413500</td>\n",
       "      <td>211.693500</td>\n",
       "      <td>2.200000</td>\n",
       "      <td>91.910000</td>\n",
       "      <td>5.000000</td>\n",
       "      <td>24.000000</td>\n",
       "      <td>1.000000</td>\n",
       "      <td>1.000000</td>\n",
       "    </tr>\n",
       "  </tbody>\n",
       "</table>\n",
       "<p>8 rows × 39 columns</p>\n",
       "</div>"
      ],
      "text/plain": [
       "        form_field1   form_field2   form_field3   form_field4   form_field6  \\\n",
       "count  24000.000000  24000.000000  23854.000000  23854.000000  2.400000e+04   \n",
       "mean    3330.766250      0.517965      1.065443      0.859146  4.800617e+05   \n",
       "std      756.712886      0.809379      2.198444      3.403115  1.303287e+06   \n",
       "min        0.000000      0.000000      0.000000      0.000000  0.000000e+00   \n",
       "25%     3332.000000      0.046350      0.000000      0.000000  0.000000e+00   \n",
       "50%     3472.000000      0.228800      0.058200      0.000000  4.240100e+04   \n",
       "75%     3614.000000      0.680050      1.304250      0.000000  3.084770e+05   \n",
       "max     3900.000000     22.315050     34.541400    206.452800  4.818738e+07   \n",
       "\n",
       "        form_field7   form_field8   form_field9  form_field10  form_field13  \\\n",
       "count  2.176900e+04  2.400000e+04  2.400000e+04  2.385300e+04  2.153700e+04   \n",
       "mean   6.797033e+06  2.034400e+06  1.159259e+07  1.187478e+07  5.984000e+06   \n",
       "std    1.626022e+07  3.651080e+06  2.172448e+07  2.477113e+07  1.947650e+07   \n",
       "min    0.000000e+00  0.000000e+00  0.000000e+00  0.000000e+00  0.000000e+00   \n",
       "25%    6.725810e+05  0.000000e+00  4.240100e+05  4.208980e+05  2.007240e+05   \n",
       "50%    2.719888e+06  3.619645e+05  3.665936e+06  3.651543e+06  1.563391e+06   \n",
       "75%    7.073576e+06  2.499811e+06  1.434048e+07  1.318126e+07  5.582150e+06   \n",
       "max    7.709887e+08  1.135141e+08  1.443921e+09  7.741014e+08  1.387407e+09   \n",
       "\n",
       "       ...  form_field37  form_field38  form_field40  form_field41  \\\n",
       "count  ...  24000.000000  23853.000000  24000.000000   7651.000000   \n",
       "mean   ...      7.750417      8.506184     31.812817    108.209648   \n",
       "std    ...      9.352425      7.833898     63.981527     36.426276   \n",
       "min    ...      0.000000      0.000000      0.000000      0.000000   \n",
       "25%    ...      0.000000      4.000000      0.000000     87.499500   \n",
       "50%    ...      4.000000      6.000000      0.000000    117.984000   \n",
       "75%    ...     12.000000     12.000000      0.000000    137.207250   \n",
       "max    ...    120.000000    190.000000    401.413500    211.693500   \n",
       "\n",
       "       form_field42  form_field43  form_field45  form_field49  \\\n",
       "count  23422.000000  23750.000000  10462.000000  24000.000000   \n",
       "mean       0.369684      6.580480      0.066526      1.057645   \n",
       "std        0.414077      6.363075      0.278211      1.813191   \n",
       "min        0.000000      0.000000      0.000000      0.000000   \n",
       "25%        0.000000      2.020000      0.000000      0.000000   \n",
       "50%        0.220000      5.050000      0.000000      0.000000   \n",
       "75%        0.628573     10.100000      0.000000      1.235216   \n",
       "max        2.200000     91.910000      5.000000     24.000000   \n",
       "\n",
       "       form_field47_charge  form_field47_lending  \n",
       "count         24000.000000          24000.000000  \n",
       "mean              0.644458              0.355542  \n",
       "std               0.478687              0.478687  \n",
       "min               0.000000              0.000000  \n",
       "25%               0.000000              0.000000  \n",
       "50%               1.000000              0.000000  \n",
       "75%               1.000000              1.000000  \n",
       "max               1.000000              1.000000  \n",
       "\n",
       "[8 rows x 39 columns]"
      ]
     },
     "execution_count": 64,
     "metadata": {},
     "output_type": "execute_result"
    }
   ],
   "source": [
    "holdout[optimized_columns].describe()"
   ]
  },
  {
   "cell_type": "code",
   "execution_count": null,
   "metadata": {},
   "outputs": [],
   "source": [
    "#holdout[optimized_columns] = holdout[optimized_columns].fillna(0)"
   ]
  },
  {
   "cell_type": "code",
   "execution_count": null,
   "metadata": {},
   "outputs": [],
   "source": [
    "#holdout_predictions = gbr.predict(holdout[optimized_columns])"
   ]
  },
  {
   "cell_type": "code",
   "execution_count": null,
   "metadata": {},
   "outputs": [],
   "source": [
    "#submission = {'Applicant_ID':holdout['Applicant_ID'],\n",
    "#              'default_status': holdout_prediction}\n",
    "#submission_df = pd.DataFrame(submission)\n",
    "#submission_df.to_csv('submission_30d.csv', index=False)"
   ]
  },
  {
   "cell_type": "code",
   "execution_count": null,
   "metadata": {},
   "outputs": [],
   "source": [
    "#submission_df['default_status'] = submission_df['default_status'].map({0: 'no', 1: 'yes'})"
   ]
  },
  {
   "cell_type": "code",
   "execution_count": null,
   "metadata": {},
   "outputs": [],
   "source": [
    "#submission_df.head()"
   ]
  },
  {
   "cell_type": "code",
   "execution_count": null,
   "metadata": {},
   "outputs": [],
   "source": [
    "#submission_df.to_csv('submission_28e.csv', index=False)"
   ]
  },
  {
   "cell_type": "code",
   "execution_count": null,
   "metadata": {},
   "outputs": [],
   "source": [
    "#from sklearn.linear_model import LinearRegression"
   ]
  },
  {
   "cell_type": "code",
   "execution_count": null,
   "metadata": {},
   "outputs": [],
   "source": [
    "#lr = LinearRegression()"
   ]
  },
  {
   "cell_type": "code",
   "execution_count": null,
   "metadata": {},
   "outputs": [],
   "source": [
    "#train['default_status'] = train['default_status'].map({'yes': 1, 'no': 0})"
   ]
  },
  {
   "cell_type": "code",
   "execution_count": null,
   "metadata": {},
   "outputs": [],
   "source": [
    "#lr.fit(X_train[optimized_columns], y_train)\n",
    "#print(lr.score(X_train[optimized_columns], y_train))\n",
    "#print(lr.score(X_test[optimized_columns], y_test))"
   ]
  },
  {
   "cell_type": "code",
   "execution_count": null,
   "metadata": {},
   "outputs": [],
   "source": [
    "#train['default_status'].unique()"
   ]
  },
  {
   "cell_type": "code",
   "execution_count": null,
   "metadata": {},
   "outputs": [],
   "source": [
    "#rfr.feature_importances_"
   ]
  },
  {
   "cell_type": "code",
   "execution_count": null,
   "metadata": {},
   "outputs": [],
   "source": [
    "#importance = list(zip(float_col_non_nan, rfr.feature_importances_))\n",
    "#importance = pd.DataFrame(importance)\n",
    "#importance"
   ]
  },
  {
   "cell_type": "code",
   "execution_count": null,
   "metadata": {},
   "outputs": [],
   "source": [
    "#sorted_values = importance.sort_values(1)\n",
    "#plt.barh(sorted_values[0], sorted_values[0])"
   ]
  },
  {
   "cell_type": "code",
   "execution_count": null,
   "metadata": {},
   "outputs": [],
   "source": [
    "#gbr.feature_importances_"
   ]
  },
  {
   "cell_type": "code",
   "execution_count": 65,
   "metadata": {},
   "outputs": [
    {
     "name": "stdout",
     "output_type": "stream",
     "text": [
      "Index(['form_field1', 'form_field6', 'form_field2', 'form_field25',\n",
      "       'form_field47_charge', 'form_field9', 'form_field18', 'form_field19',\n",
      "       'form_field47_lending', 'form_field37', 'form_field35', 'form_field8',\n",
      "       'form_field24', 'form_field34', 'form_field23', 'form_field49',\n",
      "       'form_field21', 'form_field40'],\n",
      "      dtype='object')\n"
     ]
    }
   ],
   "source": [
    "selector = RFECV(gbr, cv=5)\n",
    "selector.fit(X_train[new_col], y_train)\n",
    "print(X_train[new_col].columns[selector.support_])"
   ]
  },
  {
   "cell_type": "code",
   "execution_count": 66,
   "metadata": {},
   "outputs": [
    {
     "data": {
      "text/plain": [
       "Index(['form_field1', 'form_field6', 'form_field2', 'form_field25',\n",
       "       'form_field47_charge', 'form_field9', 'form_field18', 'form_field19',\n",
       "       'form_field47_lending', 'form_field37', 'form_field35', 'form_field8',\n",
       "       'form_field24', 'form_field34', 'form_field23', 'form_field49',\n",
       "       'form_field21', 'form_field40'],\n",
       "      dtype='object')"
      ]
     },
     "execution_count": 66,
     "metadata": {},
     "output_type": "execute_result"
    }
   ],
   "source": [
    "optimized_columns = X_train[new_col].columns[selector.support_]\n",
    "optimized_columns"
   ]
  },
  {
   "cell_type": "code",
   "execution_count": null,
   "metadata": {},
   "outputs": [],
   "source": []
  },
  {
   "cell_type": "code",
   "execution_count": 76,
   "metadata": {},
   "outputs": [],
   "source": [
    "optimized_column = [] \n",
    "for col in optimized_columns:\n",
    "    optimized_column.append(col)\n",
    "    \n",
    "    \n",
    "optimized_column.remove('form_field49')"
   ]
  },
  {
   "cell_type": "code",
   "execution_count": 77,
   "metadata": {},
   "outputs": [
    {
     "data": {
      "text/plain": [
       "0.8357094762727246"
      ]
     },
     "execution_count": 77,
     "metadata": {},
     "output_type": "execute_result"
    }
   ],
   "source": [
    "gbr.fit(X_train[optimized_column], y_train)\n",
    "gbr.score(X_train[optimized_column], y_train)"
   ]
  },
  {
   "cell_type": "code",
   "execution_count": 78,
   "metadata": {},
   "outputs": [
    {
     "data": {
      "text/plain": [
       "0.8270835162905067"
      ]
     },
     "execution_count": 78,
     "metadata": {},
     "output_type": "execute_result"
    }
   ],
   "source": [
    "gbr.score(X_test[optimized_column], y_test)"
   ]
  },
  {
   "cell_type": "code",
   "execution_count": 79,
   "metadata": {},
   "outputs": [],
   "source": [
    "holdout_predictions = gbr.predict(holdout[optimized_column])"
   ]
  },
  {
   "cell_type": "code",
   "execution_count": 80,
   "metadata": {},
   "outputs": [],
   "source": [
    "submission = {'Applicant_ID':holdout['Applicant_ID'],\n",
    "              'default_status': holdout_prediction}\n",
    "submission_df = pd.DataFrame(submission)\n",
    "submission_df.to_csv('submission_03d.csv', index=False)"
   ]
  },
  {
   "cell_type": "code",
   "execution_count": null,
   "metadata": {},
   "outputs": [],
   "source": []
  }
 ],
 "metadata": {
  "kernelspec": {
   "display_name": "Python 3",
   "language": "python",
   "name": "python3"
  },
  "language_info": {
   "codemirror_mode": {
    "name": "ipython",
    "version": 3
   },
   "file_extension": ".py",
   "mimetype": "text/x-python",
   "name": "python",
   "nbconvert_exporter": "python",
   "pygments_lexer": "ipython3",
   "version": "3.7.4"
  }
 },
 "nbformat": 4,
 "nbformat_minor": 2
}
